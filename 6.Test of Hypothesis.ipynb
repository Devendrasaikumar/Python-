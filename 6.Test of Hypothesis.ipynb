{
 "cells": [
  {
   "cell_type": "markdown",
   "metadata": {},
   "source": [
    "# <font color='Blue'>Test of Hypothesis.</font>"
   ]
  },
  {
   "cell_type": "markdown",
   "metadata": {},
   "source": [
    "- It's all about the assumption of testing, if there's enough evidence to support your prediction. "
   ]
  },
  {
   "cell_type": "markdown",
   "metadata": {},
   "source": [
    "- When we test the data we can get one P-Value."
   ]
  },
  {
   "cell_type": "markdown",
   "metadata": {},
   "source": [
    "### <font color='red'>States of Hypothesis.</font>"
   ]
  },
  {
   "cell_type": "markdown",
   "metadata": {},
   "source": [
    "**There are Two types**"
   ]
  },
  {
   "cell_type": "markdown",
   "metadata": {},
   "source": [
    "##### <font color='purple'>1.Null Hypothesis.</font>\n",
    "##### <font color='purple'>2.Alternative Hypothesis.</font>"
   ]
  },
  {
   "cell_type": "markdown",
   "metadata": {},
   "source": [
    "#### <font color='purple'>      </font>"
   ]
  },
  {
   "cell_type": "markdown",
   "metadata": {},
   "source": [
    "#### <font color='magenta'>1.Null Hypothesis.</font>"
   ]
  },
  {
   "cell_type": "markdown",
   "metadata": {},
   "source": [
    "- Simply we called it as **(H0)**\n",
    "- It usually states that there is no effect or no difference"
   ]
  },
  {
   "cell_type": "markdown",
   "metadata": {},
   "source": [
    "#### <font color='magenta'>2.Alternative Hypothesis.</font>"
   ]
  },
  {
   "cell_type": "markdown",
   "metadata": {},
   "source": [
    "- Simply we called it as **(H1)**\n",
    "- It usually states that there is effect or a Difference"
   ]
  },
  {
   "cell_type": "markdown",
   "metadata": {},
   "source": [
    "### <font color='red'>P - Value.</font>"
   ]
  },
  {
   "cell_type": "markdown",
   "metadata": {},
   "source": [
    "- A p-value is a number that helps you understand if your test results are surprising or not."
   ]
  },
  {
   "cell_type": "markdown",
   "metadata": {},
   "source": [
    "**If P-Value < 0.05**"
   ]
  },
  {
   "cell_type": "markdown",
   "metadata": {},
   "source": [
    "- It rejects the null hypothesis (H0), and it shows the evidence of in favour to the Alternative hypothesis."
   ]
  },
  {
   "cell_type": "markdown",
   "metadata": {},
   "source": [
    "**If P-Value > 0.05**"
   ]
  },
  {
   "cell_type": "markdown",
   "metadata": {},
   "source": [
    "- It fail to reject null hypothesis (H0), and not enough evidence to support alternative hypothesis."
   ]
  },
  {
   "cell_type": "markdown",
   "metadata": {},
   "source": [
    "### <font color='red'>              </font>"
   ]
  },
  {
   "cell_type": "markdown",
   "metadata": {},
   "source": [
    "**There are different types in this Test of Hypothesis**"
   ]
  },
  {
   "cell_type": "markdown",
   "metadata": {},
   "source": [
    "- ###### <font color='purple'>One Sample Z-Test.</font>\n",
    "- ###### <font color='purple'>Two Sample Z-Test.</font>\n",
    "- ###### <font color='purple'>One Sample T-Test.</font>\n",
    "- ###### <font color='purple'>Two Sample T-Test.</font>\n",
    "- ###### <font color='purple'>Propartion Test.</font>\n",
    "- ###### <font color='purple'>Anova Test.</font>\n",
    "- ###### <font color='purple'>Chi-Square test of hypothesis.</font>"
   ]
  },
  {
   "cell_type": "markdown",
   "metadata": {},
   "source": [
    "### <font color='purple'>          </font>"
   ]
  },
  {
   "cell_type": "markdown",
   "metadata": {},
   "source": [
    "### <font color='magenta'>One Sample Z-Test.</font>"
   ]
  },
  {
   "cell_type": "markdown",
   "metadata": {},
   "source": [
    "- This test is Describe that whether the mean of population data and mean of sample  data is there any difference"
   ]
  },
  {
   "cell_type": "markdown",
   "metadata": {},
   "source": [
    "**Example**"
   ]
  },
  {
   "cell_type": "code",
   "execution_count": 1,
   "metadata": {},
   "outputs": [
    {
     "name": "stdout",
     "output_type": "stream",
     "text": [
      "Z-score: -1.2374368670764582\n",
      "p-value: 0.2159249389401403\n",
      "Fail to reject the null hypothesis. The sample mean is not significantly different from the population mean.\n"
     ]
    }
   ],
   "source": [
    "from scipy.stats import norm\n",
    "import numpy as np\n",
    "\n",
    "# Population parameters\n",
    "population_mean = 50\n",
    "population_std = 10\n",
    "\n",
    "# Sample data\n",
    "sample_data = np.array([45, 42, 41, 50, 48, 43, 47, 49])\n",
    "\n",
    "# Calculate sample mean\n",
    "sample_mean = np.mean(sample_data)\n",
    "\n",
    "# Calculate Z-score\n",
    "z_score = (sample_mean - population_mean) / (population_std / np.sqrt(len(sample_data)))\n",
    "\n",
    "# Calculate p-value (two-tailed test)\n",
    "p_value = 2 * (1 - norm.cdf(abs(z_score)))\n",
    "\n",
    "print(\"Z-score:\", z_score)\n",
    "print(\"p-value:\", p_value)\n",
    "\n",
    "# Interpretation\n",
    "if p_value < 0.05:\n",
    "    print(\"Reject the null hypothesis. The sample mean is significantly different from the population mean.\")\n",
    "else:\n",
    "    print(\"Fail to reject the null hypothesis. The sample mean is not significantly different from the population mean.\")"
   ]
  },
  {
   "cell_type": "markdown",
   "metadata": {},
   "source": [
    "# <font color='purple'>          </font>"
   ]
  },
  {
   "cell_type": "markdown",
   "metadata": {},
   "source": [
    "### <font color='magenta'>Two Sample Z-Test          </font>"
   ]
  },
  {
   "cell_type": "markdown",
   "metadata": {},
   "source": [
    "- To compare two means of two independent Sample data groups then we can use this Two Sample Z-Test"
   ]
  },
  {
   "cell_type": "code",
   "execution_count": 1,
   "metadata": {},
   "outputs": [
    {
     "name": "stdout",
     "output_type": "stream",
     "text": [
      "Z-score: 3.846036921299638\n",
      "p-value: 0.00012004368190443593\n",
      "Reject the null hypothesis. The means are significantly different.\n"
     ]
    }
   ],
   "source": [
    "from scipy.stats import norm\n",
    "import numpy as np\n",
    "\n",
    "# Sample 1 data\n",
    "sample1 = np.array([23, 25, 27, 28, 22, 21, 29, 30])\n",
    "\n",
    "# Sample 2 data\n",
    "sample2 = np.array([18, 20, 22, 19, 24, 21, 20, 18])\n",
    "\n",
    "# Calculate sample means\n",
    "mean1 = np.mean(sample1)\n",
    "mean2 = np.mean(sample2)\n",
    "\n",
    "# Calculate sample standard deviations\n",
    "std1 = np.std(sample1, ddof=1)\n",
    "std2 = np.std(sample2, ddof=1)\n",
    "\n",
    "# Calculate Z-score\n",
    "z_score = (mean1 - mean2) / np.sqrt((std1**2 / len(sample1)) + (std2**2 / len(sample2)))\n",
    "\n",
    "# Calculate p-value (two-tailed test)\n",
    "p_value = 2 * (1 - norm.cdf(abs(z_score)))\n",
    "\n",
    "print(\"Z-score:\", z_score)\n",
    "print(\"p-value:\", p_value)\n",
    "\n",
    "# Interpretation\n",
    "if p_value < 0.05:\n",
    "    print(\"Reject the null hypothesis. The means are significantly different.\")\n",
    "else:\n",
    "    print(\"Fail to reject the null hypothesis. The means are not significantly different.\")"
   ]
  },
  {
   "cell_type": "markdown",
   "metadata": {},
   "source": [
    "# <font color='purple'>          </font>"
   ]
  },
  {
   "cell_type": "markdown",
   "metadata": {},
   "source": [
    "### <font color='magenta'>T-Test          </font>"
   ]
  },
  {
   "cell_type": "markdown",
   "metadata": {},
   "source": [
    "- T-Test is Similar to Z-Test, But here T-Test will use only smaller samples data.\n",
    "- In This also they Two have Types **One Sample T-Test** and **Two sample T-Test**.\n",
    "- Same defination and same above example"
   ]
  },
  {
   "cell_type": "markdown",
   "metadata": {},
   "source": [
    "# <font color='magenta'>          </font>"
   ]
  },
  {
   "cell_type": "markdown",
   "metadata": {},
   "source": [
    "### <font color='magenta'>Proportion Test          </font>"
   ]
  },
  {
   "cell_type": "markdown",
   "metadata": {},
   "source": [
    "- Used to determine if a sample proportion (e.g:- percentage of successes) is significantly different from a the expected proportion."
   ]
  },
  {
   "cell_type": "markdown",
   "metadata": {},
   "source": [
    "**They are two types**\n",
    "- One porportion test\n",
    "- Two porportion test"
   ]
  },
  {
   "cell_type": "markdown",
   "metadata": {},
   "source": [
    "###### <font color='purple'>         </font>"
   ]
  },
  {
   "cell_type": "markdown",
   "metadata": {},
   "source": [
    "###### <font color='purple'>One Proportion Test          </font>"
   ]
  },
  {
   "cell_type": "markdown",
   "metadata": {},
   "source": [
    "- To test whether single sample proportion is significantly different to know porportion"
   ]
  },
  {
   "cell_type": "code",
   "execution_count": 3,
   "metadata": {},
   "outputs": [
    {
     "name": "stdout",
     "output_type": "stream",
     "text": [
      "Z-score: 3.2118202741878648\n",
      "p-value: 0.0013189686125794076\n",
      "Reject the null hypothesis. The proportion is significantly different from 0.05\n"
     ]
    }
   ],
   "source": [
    "from scipy.stats import norm\n",
    "import numpy as np\n",
    "\n",
    "# Number of successes\n",
    "successes = 12\n",
    "\n",
    "# Sample size\n",
    "n = 100\n",
    "\n",
    "# Hypothesized proportion (e.g., 5%)\n",
    "p = 0.05\n",
    "\n",
    "# Calculate sample proportion\n",
    "prop = successes / n\n",
    "\n",
    "# Calculate Z-score\n",
    "z_score = (prop - p) / np.sqrt(p * (1 - p) / n)\n",
    "\n",
    "# Calculate p-value (two-tailed test)\n",
    "p_value = 2 * (1 - norm.cdf(abs(z_score)))\n",
    "\n",
    "print(\"Z-score:\", z_score)\n",
    "print(\"p-value:\", p_value)\n",
    "\n",
    "# Interpretation\n",
    "if p_value < 0.05:\n",
    "    print(\"Reject the null hypothesis. The proportion is significantly different from\", p)\n",
    "else:\n",
    "    print(\"Fail to reject the null hypothesis. The proportion is not significantly different from\", p)"
   ]
  },
  {
   "cell_type": "markdown",
   "metadata": {},
   "source": [
    "###### <font color='purple'>         </font>"
   ]
  },
  {
   "cell_type": "markdown",
   "metadata": {},
   "source": [
    "###### <font color='purple'>Two Proportion Test          </font>"
   ]
  },
  {
   "cell_type": "markdown",
   "metadata": {},
   "source": [
    "- To test whether two independent sample proportion is significantly different from each other"
   ]
  },
  {
   "cell_type": "code",
   "execution_count": 4,
   "metadata": {},
   "outputs": [
    {
     "name": "stdout",
     "output_type": "stream",
     "text": [
      "Z-score: -0.11254117138269379\n",
      "p-value: 0.9103943270311143\n",
      "Fail to reject the null hypothesis. The proportions are not significantly different.\n"
     ]
    }
   ],
   "source": [
    "from scipy.stats import norm\n",
    "import numpy as np\n",
    "\n",
    "# Sample 1 data (number of successes)\n",
    "successes1 = 12\n",
    "\n",
    "# Sample 1 size\n",
    "n1 = 100\n",
    "\n",
    "# Sample 2 data (number of successes)\n",
    "successes2 = 15\n",
    "\n",
    "# Sample 2 size\n",
    "n2 = 120\n",
    "\n",
    "# Calculate sample proportions\n",
    "prop1 = successes1 / n1\n",
    "prop2 = successes2 / n2\n",
    "\n",
    "# Calculate pooled proportion\n",
    "pooled_prop = (successes1 + successes2) / (n1 + n2)\n",
    "\n",
    "# Calculate Z-score\n",
    "z_score = (prop1 - prop2) / np.sqrt(pooled_prop * (1 - pooled_prop) * (1/n1 + 1/n2))\n",
    "\n",
    "# Calculate p-value (two-tailed test)\n",
    "p_value = 2 * (1 - norm.cdf(abs(z_score)))\n",
    "\n",
    "print(\"Z-score:\", z_score)\n",
    "print(\"p-value:\", p_value)\n",
    "\n",
    "# Interpretation\n",
    "if p_value < 0.05:\n",
    "    print(\"Reject the null hypothesis. The proportions are significantly different.\")\n",
    "else:\n",
    "    print(\"Fail to reject the null hypothesis. The proportions are not significantly different.\")"
   ]
  },
  {
   "cell_type": "markdown",
   "metadata": {},
   "source": [
    "###### <font color='purple'>         </font>"
   ]
  },
  {
   "cell_type": "markdown",
   "metadata": {},
   "source": [
    "### <font color='magenta'>Chi-Square test         </font>"
   ]
  },
  {
   "cell_type": "markdown",
   "metadata": {},
   "source": [
    "- Chi-square test it helps to checks the relationship between Categorical variables.\n",
    "- It's popular to check the relationship betweeen two variables "
   ]
  },
  {
   "cell_type": "markdown",
   "metadata": {},
   "source": [
    "**They are two types in Chi-Sqaure test**"
   ]
  },
  {
   "cell_type": "markdown",
   "metadata": {},
   "source": [
    "- Chi-Square test of Independence.\n",
    "- Chi-Square test of Goodness fit."
   ]
  },
  {
   "cell_type": "markdown",
   "metadata": {},
   "source": [
    "###### <font color='purple'>Chi-Square test of Independence         </font> \n",
    "\n",
    "- Use the Chi-Square Test of Independence to analyze relationships between variables.\n"
   ]
  },
  {
   "cell_type": "code",
   "execution_count": 8,
   "metadata": {},
   "outputs": [
    {
     "name": "stdout",
     "output_type": "stream",
     "text": [
      "Chi-Square statistic: 3.8571428571428577\n",
      "p-value: 0.04953461343562649\n",
      "Degrees of Freedom: 1\n",
      "Expected frequencies:\n",
      "[[35. 15.]\n",
      " [35. 15.]]\n",
      "Reject the null hypothesis. There's a significant association between coffee consumption and sleep quality.\n"
     ]
    }
   ],
   "source": [
    "\n",
    "\n",
    "from scipy.stats import chi2_contingency\n",
    "\n",
    "# Observed frequencies\n",
    "observed = [[30, 20], [40, 10]]\n",
    "\n",
    "# Perform Chi-Square test\n",
    "chi2, p_value, dof, expected = chi2_contingency(observed)\n",
    "\n",
    "print(\"Chi-Square statistic:\", chi2)\n",
    "print(\"p-value:\", p_value)\n",
    "print(\"Degrees of Freedom:\", dof)\n",
    "print(\"Expected frequencies:\")\n",
    "print(expected)\n",
    "\n",
    "# Interpretation\n",
    "if p_value < 0.05:\n",
    "    print(\"Reject the null hypothesis. There's a significant association between coffee consumption and sleep quality.\")\n",
    "else:\n",
    "    print(\"Fail to reject the null hypothesis. There's no significant association between coffee consumption and sleep quality.\")"
   ]
  },
  {
   "cell_type": "markdown",
   "metadata": {},
   "source": [
    "###### <font color='purple'>         </font> "
   ]
  },
  {
   "cell_type": "markdown",
   "metadata": {},
   "source": [
    "###### <font color='purple'>Chi-Square test of Goodness fit       </font> \n",
    "\n",
    "- It  Compares observed frequencies to expected frequencies under a specific distribution.\n"
   ]
  },
  {
   "cell_type": "code",
   "execution_count": 7,
   "metadata": {},
   "outputs": [
    {
     "name": "stdout",
     "output_type": "stream",
     "text": [
      "Chi-Square statistic: 20.0\n",
      "p-value: 0.00016974243555282632\n",
      "Reject the null hypothesis. The observed frequencies do not fit the expected distribution.\n"
     ]
    }
   ],
   "source": [
    "#Chi-Square test for goodness\n",
    "from scipy.stats import chisquare\n",
    "\n",
    "# Observed frequencies\n",
    "observed = [30, 20, 40, 10]\n",
    "\n",
    "# Expected frequencies (assuming a uniform distribution)\n",
    "expected = [25, 25, 25, 25]\n",
    "\n",
    "# Perform Chi-Square test\n",
    "chi2, p_value = chisquare(observed, expected)\n",
    "\n",
    "print(\"Chi-Square statistic:\", chi2)\n",
    "print(\"p-value:\", p_value)\n",
    "\n",
    "# Interpretation\n",
    "if p_value < 0.05:\n",
    "    print(\"Reject the null hypothesis. The observed frequencies do not fit the expected distribution.\")\n",
    "else:\n",
    "    print(\"Fail to reject the null hypothesis. The observed frequencies fit the expected distribution.\")"
   ]
  },
  {
   "cell_type": "markdown",
   "metadata": {},
   "source": [
    "###### <font color='purple'>       </font> "
   ]
  },
  {
   "cell_type": "markdown",
   "metadata": {},
   "source": [
    "### <font color='Magenta'>Anova       </font> "
   ]
  },
  {
   "cell_type": "markdown",
   "metadata": {},
   "source": [
    "- It's Stands for **Analysis of Variance**."
   ]
  },
  {
   "cell_type": "markdown",
   "metadata": {},
   "source": [
    "- It is used to analyze the difference between means of more than two groups."
   ]
  },
  {
   "cell_type": "markdown",
   "metadata": {},
   "source": [
    "**They are two types**\n",
    "- One-way anova\n",
    "- Two-way anova"
   ]
  },
  {
   "cell_type": "markdown",
   "metadata": {},
   "source": [
    "###### <font color='purple'>One-way Anova       </font> "
   ]
  },
  {
   "cell_type": "markdown",
   "metadata": {},
   "source": [
    "- One-way anova uses one independent Variable."
   ]
  },
  {
   "cell_type": "code",
   "execution_count": 3,
   "metadata": {},
   "outputs": [
    {
     "name": "stdout",
     "output_type": "stream",
     "text": [
      "F-statistic: 8.794594594594589\n",
      "P-value: 0.004449273349406637\n"
     ]
    }
   ],
   "source": [
    "#Suppose we want to compare the average scores of students from three different classes (A, B, and C).\n",
    "\n",
    "import numpy as np\n",
    "from scipy.stats import f_oneway\n",
    "\n",
    "# Sample data\n",
    "class_A = np.array([90, 85, 95, 88, 92])\n",
    "class_B = np.array([78, 82, 85, 80, 88])\n",
    "class_C = np.array([92, 95, 90, 88, 91])\n",
    "\n",
    "# Perform One-Way ANOVA\n",
    "f_stat, p_val = f_oneway(class_A, class_B, class_C)\n",
    "\n",
    "print(\"F-statistic:\", f_stat)\n",
    "print(\"P-value:\", p_val)"
   ]
  },
  {
   "cell_type": "markdown",
   "metadata": {},
   "source": [
    "###### <font color='purple'>        </font> "
   ]
  },
  {
   "cell_type": "markdown",
   "metadata": {},
   "source": [
    "###### <font color='purple'>Two-way Anova       </font> "
   ]
  },
  {
   "cell_type": "markdown",
   "metadata": {},
   "source": [
    "- Two-Way ANOVA is used to compare the means of multiple groups across two independent variables."
   ]
  },
  {
   "cell_type": "code",
   "execution_count": 4,
   "metadata": {},
   "outputs": [
    {
     "name": "stdout",
     "output_type": "stream",
     "text": [
      "                         sum_sq   df         F    PR(>F)\n",
      "C(Class)             198.814683  2.0  7.353420  0.012799\n",
      "C(Teacher)            23.511111  1.0  1.739178  0.219812\n",
      "C(Class):C(Teacher)    2.822222  2.0  0.104384  0.901954\n",
      "Residual             121.666667  9.0       NaN       NaN\n"
     ]
    }
   ],
   "source": [
    "#Suppose we want to compare the average scores of students from three different classes (A, B, and C) and two different teachers (Mr. X and Mr. Y).\n",
    "\n",
    "import numpy as np\n",
    "from scipy.stats import f_oneway\n",
    "from statsmodels.formula.api import ols\n",
    "from statsmodels.stats.anova import anova_lm\n",
    "\n",
    "# Sample data\n",
    "data = {\n",
    "    'Class': ['A', 'A', 'A', 'A', 'A', 'B', 'B', 'B', 'B', 'B', 'C', 'C', 'C', 'C', 'C'],\n",
    "    'Teacher': ['Mr. X', 'Mr. X', 'Mr. Y', 'Mr. Y', 'Mr. X', 'Mr. X', 'Mr. Y', 'Mr. Y', 'Mr. X', 'Mr. X', 'Mr. Y', 'Mr. Y', 'Mr. X', 'Mr. X', 'Mr. Y'],\n",
    "    'Score': [90, 85, 95, 88, 92, 78, 82, 85, 80, 88, 92, 95, 90, 88, 91]\n",
    "}\n",
    "\n",
    "# Perform Two-Way ANOVA\n",
    "model = ols('Score ~ C(Class) + C(Teacher) + C(Class):C(Teacher)', data=data).fit()\n",
    "anova_table = anova_lm(model, typ=2)\n",
    "\n",
    "print(anova_table)"
   ]
  },
  {
   "cell_type": "markdown",
   "metadata": {},
   "source": [
    "###### <font color='purple'>        </font> "
   ]
  },
  {
   "cell_type": "markdown",
   "metadata": {},
   "source": [
    "###### <font color='purple'>        </font> "
   ]
  },
  {
   "cell_type": "markdown",
   "metadata": {},
   "source": [
    "### <font color='magenta'>OLS        </font> "
   ]
  },
  {
   "cell_type": "markdown",
   "metadata": {},
   "source": [
    "- Ordinary Least Square.\n",
    "- Ols is a type of Linear Regression model.\n",
    "- It's to find a best fitting line through a data point by miniimizing the errors b/w observed values and predicted values"
   ]
  },
  {
   "cell_type": "markdown",
   "metadata": {},
   "source": [
    "###### <font color='purple'>        </font> "
   ]
  },
  {
   "cell_type": "markdown",
   "metadata": {},
   "source": [
    "# <font color='Red'>END        </font> "
   ]
  }
 ],
 "metadata": {
  "kernelspec": {
   "display_name": "Python 3",
   "language": "python",
   "name": "python3"
  },
  "language_info": {
   "codemirror_mode": {
    "name": "ipython",
    "version": 3
   },
   "file_extension": ".py",
   "mimetype": "text/x-python",
   "name": "python",
   "nbconvert_exporter": "python",
   "pygments_lexer": "ipython3",
   "version": "3.7.3"
  }
 },
 "nbformat": 4,
 "nbformat_minor": 2
}
