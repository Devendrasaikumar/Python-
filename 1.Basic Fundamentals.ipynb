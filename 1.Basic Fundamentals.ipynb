{
 "cells": [
  {
   "cell_type": "markdown",
   "metadata": {},
   "source": [
    "# <font color='Blue'>Simple Syntax.</font>\n"
   ]
  },
  {
   "cell_type": "code",
   "execution_count": 17,
   "metadata": {},
   "outputs": [
    {
     "name": "stdout",
     "output_type": "stream",
     "text": [
      "Hello MS\n",
      "Hi SAI\n",
      "12\n"
     ]
    }
   ],
   "source": [
    "print(\"Hello MS\")\n",
    "print(\"Hi SAI\")\n",
    "print(12)\n",
    "\n",
    "# print ---> Starting (p) should be Small p.\n",
    "# So, Here When You Calling Charcters(a,b,c) use Double Codes.\n",
    "# For Numbers No Need Double codes."
   ]
  },
  {
   "cell_type": "markdown",
   "metadata": {},
   "source": [
    "###### <font color='red'>                           </font>"
   ]
  },
  {
   "cell_type": "markdown",
   "metadata": {},
   "source": [
    "<font color='blue'>Assigning Variables.</font>"
   ]
  },
  {
   "cell_type": "code",
   "execution_count": 18,
   "metadata": {},
   "outputs": [
    {
     "name": "stdout",
     "output_type": "stream",
     "text": [
      "M\n",
      "Sai\n",
      "kumar\n",
      "25\n"
     ]
    }
   ],
   "source": [
    "A =\"M\"\n",
    "\n",
    "B = \"Sai\"\n",
    "\n",
    "C = \"kumar\"\n",
    "\n",
    "D = 25\n",
    "\n",
    "print(A)\n",
    "print(B)\n",
    "print(C)\n",
    "print(D)\n",
    "\n",
    "# So, Here When We Assigning the Variable we should Use (=) Synbol.\n",
    "# (A,B,C,D) ----> All are Variables, its our choice to keep any name OR Character.\n",
    "# (M,Sai,Kumar,25) ----> All are Assigning  Values."
   ]
  },
  {
   "cell_type": "markdown",
   "metadata": {},
   "source": [
    "###### <font color='red'>                           </font>"
   ]
  },
  {
   "cell_type": "markdown",
   "metadata": {},
   "source": [
    "<font color='blue'>Comments.</font>"
   ]
  },
  {
   "cell_type": "code",
   "execution_count": 19,
   "metadata": {},
   "outputs": [
    {
     "data": {
      "text/plain": [
       "'Ms is Good'"
      ]
     },
     "execution_count": 19,
     "metadata": {},
     "output_type": "execute_result"
    }
   ],
   "source": [
    "\"Ms is Good\"\n",
    "#\"Ms is Bad\"\n",
    "\n",
    "#so, Here if u use #symbol it doesnt Run that Line."
   ]
  },
  {
   "cell_type": "markdown",
   "metadata": {},
   "source": [
    "###### <font color='red'>                           </font>"
   ]
  },
  {
   "cell_type": "markdown",
   "metadata": {},
   "source": [
    "<font color='blue'>DataTypes.</font>"
   ]
  },
  {
   "cell_type": "code",
   "execution_count": 20,
   "metadata": {},
   "outputs": [
    {
     "name": "stdout",
     "output_type": "stream",
     "text": [
      "<class 'int'>\n",
      "<class 'float'>\n",
      "<class 'str'>\n",
      "<class 'str'>\n",
      "<class 'bool'>\n"
     ]
    }
   ],
   "source": [
    "X1=10\n",
    "\n",
    "X2=12.5\n",
    "\n",
    "X3=\"Ms\"\n",
    "\n",
    "X4=\"True\"\n",
    "\n",
    "X5=True\n",
    "\n",
    "print(type(X1))\n",
    "print(type(X2))\n",
    "print(type(X3))\n",
    "print(type(X4))\n",
    "print(type(X5))\n",
    "\n",
    "\n",
    "# S0, Here they are 4 types of Data types.\n",
    "# 1. Integer --> Having Integer.\n",
    "# 2. Float ---> Having Decimal.\n",
    "# 3. String ---> Having Character.\n",
    "# 4. Boolean ---> Having True / False.\n",
    "\n",
    "\n",
    "# Here one more thing we Observe that when we use Double Qoutes That will consider as  a STRING.\n",
    "\n",
    "# Use Type() function in Python to get what Data Type it is. "
   ]
  },
  {
   "cell_type": "markdown",
   "metadata": {},
   "source": [
    "###### <font color='red'>                           </font>"
   ]
  },
  {
   "cell_type": "markdown",
   "metadata": {},
   "source": [
    "<font color='blue'>Operators.</font>\n",
    "\n",
    "<font color='blue'>1.Arthematic.</font>\n",
    "<font color='blue'>2.Relational.</font>\n",
    "<font color='blue'>3.Logical.</font>"
   ]
  },
  {
   "cell_type": "code",
   "execution_count": 21,
   "metadata": {},
   "outputs": [
    {
     "name": "stdout",
     "output_type": "stream",
     "text": [
      "30\n",
      "-10\n",
      "200\n",
      "0.5\n",
      "0\n",
      "10\n",
      "100000000000000000000\n"
     ]
    }
   ],
   "source": [
    "# Arthamatic Operators\n",
    "\n",
    "x=10\n",
    "y=20\n",
    "\n",
    "a= x +  y \n",
    "b= x -  y\n",
    "c= x *  y\n",
    "d= x /  y\n",
    "e= x // y\n",
    "f= x %  y\n",
    "g= x ** y\n",
    "\n",
    "print(a)\n",
    "print(b)\n",
    "print(c)\n",
    "print(d)\n",
    "print(e)\n",
    "print(f)\n",
    "print(g)\n",
    "\n",
    "\n",
    "# So, Here Arthamatic Operators means simple calculations we will do.\n",
    "# Addition, Sub, Mul, Div, Quitioent, Reminder, Power."
   ]
  },
  {
   "cell_type": "markdown",
   "metadata": {},
   "source": [
    "###### <font color='red'>                           </font>"
   ]
  },
  {
   "cell_type": "code",
   "execution_count": 22,
   "metadata": {},
   "outputs": [
    {
     "name": "stdout",
     "output_type": "stream",
     "text": [
      "False\n",
      "True\n",
      "True\n",
      "False\n",
      "True\n",
      "False\n"
     ]
    }
   ],
   "source": [
    "# Relational Operator\n",
    "\n",
    "x=20\n",
    "y=30\n",
    "\n",
    "a= x >  y \n",
    "b= x <  y\n",
    "c= x != y\n",
    "d= x >= y\n",
    "e= x <= y\n",
    "f= x == y\n",
    "\n",
    "print(a) \n",
    "print(b)\n",
    "print(c)\n",
    "print(d)\n",
    "print(e)\n",
    "print(f)\n",
    "\n",
    "\n",
    "# So, Here According to this operator the output return values will comes like TRUE / FALSE.\n",
    "# Greater, Lesser, Not equal to, Greater equal to, Lesser equal to, Equal to."
   ]
  },
  {
   "cell_type": "markdown",
   "metadata": {},
   "source": [
    "###### <font color='red'>                           </font>"
   ]
  },
  {
   "cell_type": "code",
   "execution_count": 23,
   "metadata": {},
   "outputs": [
    {
     "name": "stdout",
     "output_type": "stream",
     "text": [
      "True\n",
      "False\n",
      "True\n",
      "True\n",
      "True\n",
      "False\n"
     ]
    }
   ],
   "source": [
    "# Logical Operator\n",
    "\n",
    "Age = 25\n",
    "Gender = \"Male\"\n",
    "\n",
    "a= Age>21 and Gender == \"Male\"\n",
    "b= Age<21 and Gender == \"Male\"\n",
    "\n",
    "c= Age<21 or Gender == \"Male\"\n",
    "d= Age>21 or Gender == \"Male\"\n",
    "\n",
    "print(a)\n",
    "print(b)\n",
    "print(c)\n",
    "print(d)\n",
    "\n",
    "Age1 = 25\n",
    "e= not(Age1<21)\n",
    "f= not(Age1>21)\n",
    "print(e)\n",
    "print(f)\n",
    "\n",
    "\n",
    "# So, Here Logical operartors having AND, OR, NOT.\n",
    "# We want to use along with \"RELATIONAL OPERATOR\"."
   ]
  },
  {
   "cell_type": "markdown",
   "metadata": {},
   "source": [
    "###### <font color='red'>                           </font>"
   ]
  },
  {
   "cell_type": "markdown",
   "metadata": {},
   "source": [
    "<font color='blue'>Lists.</font>\n"
   ]
  },
  {
   "cell_type": "code",
   "execution_count": 24,
   "metadata": {},
   "outputs": [
    {
     "name": "stdout",
     "output_type": "stream",
     "text": [
      "[10, 'MS', 20]\n",
      "10\n",
      "MS\n",
      "[10, 'Sai', 20]\n",
      "[10, 'Sai']\n",
      "['Sai']\n",
      "['Sai', 30]\n"
     ]
    }
   ],
   "source": [
    "# Creating List\n",
    "x=[10,\"MS\",20]\n",
    "print(x)\n",
    "print(x[0])\n",
    "print(x[1])\n",
    "\n",
    "\n",
    "# Replace ---------------> Replacing with Another one\n",
    "x[1]=\"Sai\"\n",
    "print(x)\n",
    "\n",
    "# Pop ---------------> Delete\n",
    "x.pop(2)\n",
    "print(x)\n",
    "\n",
    "# Remove ---------------> Remove\n",
    "x.remove(10)\n",
    "print(x)\n",
    "\n",
    "# Append ---------------> Adding\n",
    "x.append(30)\n",
    "print(x)\n",
    "\n",
    "\n",
    "# So, Here with the help of this list we can create any values OR strings, with in the inside of this [ ].\n",
    "# We can do  this simple statements here Replace, Pop, Remove, Append, Modify.\n"
   ]
  },
  {
   "cell_type": "markdown",
   "metadata": {},
   "source": [
    "###### <font color='red'>                           </font>"
   ]
  },
  {
   "cell_type": "markdown",
   "metadata": {},
   "source": [
    "<font color='blue'>Tupels.</font>"
   ]
  },
  {
   "cell_type": "code",
   "execution_count": 25,
   "metadata": {},
   "outputs": [
    {
     "name": "stdout",
     "output_type": "stream",
     "text": [
      "(25, 'Ms', 'kumar', 26)\n",
      "Ms\n",
      "kumar\n",
      "4\n",
      "(25, 26, 27, 28)\n",
      "106\n"
     ]
    }
   ],
   "source": [
    "x=(25,\"Ms\",\"kumar\",26)\n",
    "print(x)\n",
    "\n",
    "a=x[1]\n",
    "print(a)\n",
    "\n",
    "b=x[2]\n",
    "print(b)\n",
    "\n",
    "c=len(x)\n",
    "print(c)\n",
    "\n",
    "\n",
    "\n",
    "y=(25,26,27,28)\n",
    "print(y)\n",
    "\n",
    "d=sum(y)\n",
    "print(d)\n",
    "\n",
    "\n",
    "# So, Here we can't Modify the values.\n",
    "# we didn't use Append, Remove, pop like that.\n",
    "# But here we can calculate the SUM and LENGTH."
   ]
  },
  {
   "cell_type": "markdown",
   "metadata": {},
   "source": [
    "###### <font color='red'>                           </font>"
   ]
  },
  {
   "cell_type": "markdown",
   "metadata": {},
   "source": [
    "<font color='blue'>Dictionary.</font>"
   ]
  },
  {
   "cell_type": "code",
   "execution_count": 26,
   "metadata": {},
   "outputs": [
    {
     "name": "stdout",
     "output_type": "stream",
     "text": [
      "{'Sai': 1, 'Kumar': 2}\n",
      "dict_keys(['Sai', 'Kumar'])\n",
      "dict_values([1, 2])\n",
      "{'Ms': [10, 20, 30], 'Kumar': [40, 50, 60]}\n",
      "dict_keys(['Ms', 'Kumar'])\n",
      "dict_values([[10, 20, 30], [40, 50, 60]])\n"
     ]
    }
   ],
   "source": [
    "a={\"Sai\":1,\"Kumar\":2}\n",
    "print(a)\n",
    "\n",
    "b=a.keys()\n",
    "print(b)\n",
    "\n",
    "c=a.values()\n",
    "print(c)\n",
    "\n",
    "\n",
    "# Creating data using Dictionary\n",
    "\n",
    "d={\"Ms\":[10,20,30],\"Kumar\":[40,50,60]}\n",
    "print(d)\n",
    "\n",
    "e=d.keys()\n",
    "print(e)\n",
    "\n",
    "f=d.values()\n",
    "print(f)\n",
    "\n",
    "\n",
    "# So, Here using this we can know what is values coming when using KEYS function and VALUES function.\n",
    "# Using this we create a normal data."
   ]
  },
  {
   "cell_type": "markdown",
   "metadata": {},
   "source": [
    "###### <font color='red'>                           </font>"
   ]
  },
  {
   "cell_type": "markdown",
   "metadata": {},
   "source": [
    "<font color='blue'>Control Structures.</font>\n",
    "\n"
   ]
  },
  {
   "cell_type": "markdown",
   "metadata": {},
   "source": [
    "<font color='blue'>1.Using IF.</font>\n"
   ]
  },
  {
   "cell_type": "markdown",
   "metadata": {},
   "source": [
    "<font color='blue'>2.Using IF - ELSE.</font>\n"
   ]
  },
  {
   "cell_type": "markdown",
   "metadata": {},
   "source": [
    "<font color='blue'>3.Using IF - ELIF - ELSE.</font>\n"
   ]
  },
  {
   "cell_type": "markdown",
   "metadata": {},
   "source": [
    "<font color='blue'>4.Nested IF.</font>"
   ]
  },
  {
   "cell_type": "code",
   "execution_count": 27,
   "metadata": {},
   "outputs": [
    {
     "name": "stdout",
     "output_type": "stream",
     "text": [
      "correct\n"
     ]
    }
   ],
   "source": [
    "# Using IF\n",
    "\n",
    "age = 25\n",
    "\n",
    "if age > 20 : \n",
    "    print(\"correct\")\n",
    "    \n",
    "\n",
    "# So, Here only one condition will give and only one output statement will be given."
   ]
  },
  {
   "cell_type": "markdown",
   "metadata": {},
   "source": [
    "###### <font color='red'>                           </font>"
   ]
  },
  {
   "cell_type": "code",
   "execution_count": 28,
   "metadata": {},
   "outputs": [
    {
     "name": "stdout",
     "output_type": "stream",
     "text": [
      "worng\n"
     ]
    }
   ],
   "source": [
    "# Using IF - ELSE\n",
    "\n",
    "age = 25\n",
    "\n",
    "if age < 20 :\n",
    "    print(\"correct\")\n",
    "    \n",
    "else :\n",
    "    print(\"worng\")\n",
    "\n",
    "    \n",
    "# So, Here we use only one condition but we can gave two output statements."
   ]
  },
  {
   "cell_type": "markdown",
   "metadata": {},
   "source": [
    "###### <font color='red'>                           </font>"
   ]
  },
  {
   "cell_type": "code",
   "execution_count": 29,
   "metadata": {},
   "outputs": [
    {
     "name": "stdout",
     "output_type": "stream",
     "text": [
      "Too correct\n"
     ]
    }
   ],
   "source": [
    "# Using IF - ELIF - ELSE\n",
    "\n",
    "age = 25\n",
    "\n",
    "if age >30:\n",
    "    print(\"correct\")\n",
    "    \n",
    "elif age > 24:\n",
    "    print(\"Too correct\")\n",
    "    \n",
    "else :\n",
    "    print(\"wrong\")\n",
    "    \n",
    "\n",
    "# So, Here we can use ELIF for two conditions.\n",
    "# Using ELIF we can write two condition and three output statements because in laste ELSE is there."
   ]
  },
  {
   "cell_type": "markdown",
   "metadata": {},
   "source": [
    "###### <font color='red'>                           </font>"
   ]
  },
  {
   "cell_type": "code",
   "execution_count": 41,
   "metadata": {},
   "outputs": [
    {
     "name": "stdout",
     "output_type": "stream",
     "text": [
      "Eligible for DATA SCIENCE\n"
     ]
    }
   ],
   "source": [
    "# Nested IF\n",
    "\n",
    "edu = \"B.tech\"\n",
    "exp = 3\n",
    "age = 25\n",
    "\n",
    "if edu == \"B.tech\":\n",
    "    if exp > 1:\n",
    "        if age > 30:\n",
    "            print(\"Eligible for DATA PROCESSING\")\n",
    "        else:\n",
    "            print(\"Eligible for DATA SCIENCE\")\n",
    "    elif age==25 and exp==3:\n",
    "        print(\"Eligible for DATA ANALYST\")\n",
    "    else:\n",
    "        print(\"First Read\")\n",
    "else:\n",
    "    print(\"Complete Degree\")\n",
    "    \n",
    "    \n",
    "# So, Here when IF using another IF is called Nested Function."
   ]
  },
  {
   "cell_type": "markdown",
   "metadata": {},
   "source": [
    "###### <font color='red'>                           </font>"
   ]
  },
  {
   "cell_type": "markdown",
   "metadata": {},
   "source": [
    "<font color='blue'>For Loop.</font>"
   ]
  },
  {
   "cell_type": "code",
   "execution_count": 61,
   "metadata": {},
   "outputs": [
    {
     "name": "stdout",
     "output_type": "stream",
     "text": [
      "range(1, 10)\n",
      "1\n",
      "2\n",
      "3\n",
      "4\n",
      "5\n",
      "6\n",
      "7\n",
      "8\n",
      "9\n",
      "[23, 24, 25, 26]\n",
      "23\n",
      "24\n",
      "25\n",
      "26\n"
     ]
    }
   ],
   "source": [
    "Ms=range(1,10)\n",
    "print(Ms)\n",
    "\n",
    "for i in ms:\n",
    "    print(i)\n",
    "    \n",
    "age=[23,24,25,26]\n",
    "print(age)\n",
    "\n",
    "for i in age:\n",
    "    print(i)\n",
    "    \n",
    "    \n",
    "# So, Here for loop is used for iterating over a sequence.\n",
    "# With the for loop we can execute a set of statements, once for each item in a list, tuple, set etc.\n"
   ]
  },
  {
   "cell_type": "markdown",
   "metadata": {},
   "source": [
    "###### <font color='red'>                           </font>"
   ]
  },
  {
   "cell_type": "markdown",
   "metadata": {},
   "source": [
    "<font color='blue'>Functions.</font>"
   ]
  },
  {
   "cell_type": "markdown",
   "metadata": {},
   "source": [
    "<font color='blue'>1.Pre - Defined Functions.</font>"
   ]
  },
  {
   "cell_type": "markdown",
   "metadata": {},
   "source": [
    "<font color='blue'>2.User - Defined Functions.</font>"
   ]
  },
  {
   "cell_type": "code",
   "execution_count": 70,
   "metadata": {},
   "outputs": [
    {
     "name": "stdout",
     "output_type": "stream",
     "text": [
      "(24, 25, 26, 27, 28)\n",
      "130\n",
      "24\n"
     ]
    }
   ],
   "source": [
    "# Pre - Defined Functions\n",
    "\n",
    "a=(24,25,26,27,28)\n",
    "print(a)\n",
    "\n",
    "b=sum(a)\n",
    "print(b)\n",
    "\n",
    "c=min(a)\n",
    "print(c)\n",
    "\n",
    "\n",
    "# So, Here Pre-Defined Functions means already someone has created, ex(sum, min, print) like this using this we can ans easily.\n"
   ]
  },
  {
   "cell_type": "markdown",
   "metadata": {},
   "source": [
    "###### <font color='red'>                           </font>"
   ]
  },
  {
   "cell_type": "code",
   "execution_count": 69,
   "metadata": {},
   "outputs": [
    {
     "name": "stdout",
     "output_type": "stream",
     "text": [
      "5\n",
      "12\n"
     ]
    }
   ],
   "source": [
    "# User - Defined Functions\n",
    "\n",
    "def ms(x):\n",
    "    y=x+2\n",
    "    return y\n",
    "\n",
    "a=ms(3)\n",
    "print(a)\n",
    "\n",
    "b=ms(10)\n",
    "print(b)\n",
    "\n",
    "\n",
    "\n",
    "\n",
    "# So, Here (def ms(x):)---> We are creating a function, when i use ms give me this output.\n",
    "# (y=x+2)-----> I told to this when they give value add +2 and return it.\n",
    "# Like this we need to create a function."
   ]
  },
  {
   "cell_type": "markdown",
   "metadata": {},
   "source": [
    "<font color='red'>END.</font>"
   ]
  },
  {
   "cell_type": "code",
   "execution_count": null,
   "metadata": {},
   "outputs": [],
   "source": []
  }
 ],
 "metadata": {
  "kernelspec": {
   "display_name": "Python 3",
   "language": "python",
   "name": "python3"
  },
  "language_info": {
   "codemirror_mode": {
    "name": "ipython",
    "version": 3
   },
   "file_extension": ".py",
   "mimetype": "text/x-python",
   "name": "python",
   "nbconvert_exporter": "python",
   "pygments_lexer": "ipython3",
   "version": "3.7.3"
  }
 },
 "nbformat": 4,
 "nbformat_minor": 2
}
