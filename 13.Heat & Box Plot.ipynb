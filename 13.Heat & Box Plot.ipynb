{
 "cells": [
  {
   "cell_type": "markdown",
   "metadata": {},
   "source": [
    "# <font color = \"blue\">Heat Map</font> "
   ]
  },
  {
   "cell_type": "markdown",
   "metadata": {},
   "source": [
    "**Syntax**"
   ]
  },
  {
   "cell_type": "markdown",
   "metadata": {},
   "source": [
    "- matplotlib.pyplot.imshow(X, cmap=None, interpolation=None, aspect=None, vmin=None, vmax=None, alpha=None, origin=None, extent=None, interpolation_stage=None, filternorm=True, filterrad=4.0, resample=None, origin_resample=None)"
   ]
  },
  {
   "cell_type": "markdown",
   "metadata": {},
   "source": [
    "- **X**  == The data to display.\n",
    "\n",
    "- **cmap** == The colormap to use for mapping the data values to colors. Examples include 'viridis', 'plasma', 'coolwarm', etc.\n",
    "\n",
    "- **interpolation** == The interpolation method used to display the image. Common options include 'nearest' (default), 'bilinear', 'bicubic', etc. 'nearest' is often used for heat maps to avoid smoothing.\n",
    "\n",
    "- **aspect** == The aspect ratio of the heat map. 'auto' (default) maintains the aspect ratio, 'equal' makes the cells square, or a numeric value.\n",
    "\n",
    "- **vmin and vmax**  == The data range to map to the colormap. Values below vmin are mapped to the lowest color and values above vmax are mapped to the highest color.\n",
    "\n",
    "- **alpha** == The transparency level of the image. A value between 0 (fully transparent) and 1 (fully opaque).\n",
    "\n",
    "- **origin** == The origin of the data, 'upper' or 'lower'. 'upper' places the [0, 0] index in the upper-left corner.\n",
    "\n",
    "- **extent** == The bounding box in data coordinates. If extent is provided, it is used to define the extent of the image."
   ]
  },
  {
   "cell_type": "code",
   "execution_count": 7,
   "metadata": {},
   "outputs": [
    {
     "data": {
      "image/png": "[encoded data removed]",
      "text/plain": [
       "<Figure size 576x432 with 2 Axes>"
      ]
     },
     "metadata": {
      "needs_background": "light"
     },
     "output_type": "display_data"
    }
   ],
   "source": [
    "import numpy as np\n",
    "import matplotlib.pyplot as plt\n",
    "\n",
    "# Sample data\n",
    "data = np.random.rand(10, 10)  # 10x10 array of random values\n",
    "\n",
    "# Create the heat map\n",
    "plt.figure(figsize=(8, 6))  # Set figure size\n",
    "cax = plt.imshow(data, cmap='plasma', interpolation='nearest', aspect='auto', vmin=0, vmax=1)\n",
    "\n",
    "# Add a color bar\n",
    "plt.colorbar(cax, label='Intensity')\n",
    "\n",
    "# Add titles and labels\n",
    "plt.title('Heat Map Example')\n",
    "plt.xlabel('Columns')\n",
    "plt.ylabel('Rows')\n",
    "\n",
    "# Show the plot\n",
    "plt.show()"
   ]
  },
  {
   "cell_type": "markdown",
   "metadata": {},
   "source": [
    "### <font color = \"magenta\">       </font>"
   ]
  },
  {
   "cell_type": "markdown",
   "metadata": {},
   "source": [
    "### <font color = \"magenta\">       </font>"
   ]
  },
  {
   "cell_type": "markdown",
   "metadata": {},
   "source": [
    "### <font color = \"magenta\">       </font>"
   ]
  },
  {
   "cell_type": "markdown",
   "metadata": {},
   "source": [
    "### <font color = \"magenta\">       </font>"
   ]
  },
  {
   "cell_type": "markdown",
   "metadata": {},
   "source": [
    "### <font color = \"magenta\">       </font>"
   ]
  },
  {
   "cell_type": "markdown",
   "metadata": {},
   "source": [
    "# <font color = \"blue\">Box Plot       </font>"
   ]
  },
  {
   "cell_type": "markdown",
   "metadata": {},
   "source": [
    "- matplotlib.pyplot.boxplot(x, notch=False, vert=True, patch_artist=False, widths=0.5, meanline=False, showmeans=False, showcaps=True, showbox=True, whiskerprops=None, capprops=None, boxprops=None, medianprops=None, meanprops=None, flierprops=None, positions=None, widths=None, bootstrap=None, showfliers=True, showcaps=True, showmeans=False, meanline=False, notch=False, vert=True)"
   ]
  },
  {
   "cell_type": "markdown",
   "metadata": {},
   "source": [
    "- **x** == Data to plot. \n",
    "- **notch** == Whether to draw a notch in the box to show the confidence interval around the median. False (default) means no notch.\n",
    "\n",
    "- **vert** == If True, creates a vertical box plot; if False, creates a horizontal box plot.\n",
    "\n",
    "- **patch_artist** == If True, fills the boxes with color. False (default) means no color filling.\n",
    "\n",
    "- **widths** == Width of the boxes. Can be a scalar or a list of widths.\n",
    "\n",
    "- **meanline** == If True, draws a line for the mean of the data. False (default) means no line for the mean.\n",
    "\n",
    "- **showmeans** == If True, shows the mean value with a marker. False (default) means no mean marker.\n",
    "\n",
    "- **showcaps** == If True, shows the caps on the whiskers. True (default) means caps are shown.\n",
    "\n",
    "- **showbox** == If True, shows the box itself. True (default) means the box is shown.\n",
    "\n",
    "- **whiskerprops** == Dictionary of properties for the whiskers (e.g., color, line style).\n",
    "\n",
    "- **capprops** == Dictionary of properties for the caps (e.g., color, line style).\n",
    "\n",
    "- **boxprops** == Dictionary of properties for the box (e.g., color, fill).\n",
    "\n",
    "- **medianprops** == Dictionary of properties for the median line (e.g., color, line style).\n",
    "\n",
    "- **meanprops** == Dictionary of properties for the mean line (e.g., color, line style).\n",
    "\n",
    "- **flierprops** == Dictionary of properties for the outliers (e.g., color, marker).\n",
    "\n",
    "- **positions**  == Positions of the boxes on the x-axis if the boxes are not to be positioned at the default locations.\n",
    "\n",
    "- **showfliers** == If True, shows the outliers. True (default) means outliers are shown."
   ]
  },
  {
   "cell_type": "code",
   "execution_count": 8,
   "metadata": {},
   "outputs": [
    {
     "data": {
      "image/png": "[encoded data removed]",
      "text/plain": [
       "<Figure size 720x432 with 1 Axes>"
      ]
     },
     "metadata": {
      "needs_background": "light"
     },
     "output_type": "display_data"
    }
   ],
   "source": [
    "import matplotlib.pyplot as plt\n",
    "import numpy as np\n",
    "\n",
    "# Sample data\n",
    "np.random.seed(10)\n",
    "data = [np.random.normal(loc, 0.5, 100) for loc in range(1, 5)]  # Create 4 datasets\n",
    "\n",
    "# Create the box plot\n",
    "plt.figure(figsize=(10, 6))  \n",
    "boxprops = dict(linewidth=2, color='black')\n",
    "medianprops = dict(linewidth=2, color='red')\n",
    "meanprops = dict(marker='D', markeredgecolor='black', markerfacecolor='yellow')\n",
    "\n",
    "plt.boxplot(data, notch=True, vert=True, patch_artist=True, widths=0.5,\n",
    "            meanline=True, showmeans=True, showcaps=True, showbox=True,\n",
    "            whiskerprops=dict(color='blue', linewidth=1.5),\n",
    "            capprops=dict(color='black', linewidth=2),\n",
    "            boxprops=boxprops,\n",
    "            medianprops=medianprops,\n",
    "            meanprops=meanprops,\n",
    "            flierprops=dict(marker='o', color='green', alpha=0.5))\n",
    "\n",
    "# Adding Titles\n",
    "plt.title('Box Plot')\n",
    "plt.xlabel('Groups')\n",
    "plt.ylabel('Values')\n",
    "\n",
    "\n",
    "plt.show()"
   ]
  },
  {
   "cell_type": "code",
   "execution_count": null,
   "metadata": {},
   "outputs": [],
   "source": []
  }
 ],
 "metadata": {
  "kernelspec": {
   "display_name": "Python 3",
   "language": "python",
   "name": "python3"
  },
  "language_info": {
   "codemirror_mode": {
    "name": "ipython",
    "version": 3
   },
   "file_extension": ".py",
   "mimetype": "text/x-python",
   "name": "python",
   "nbconvert_exporter": "python",
   "pygments_lexer": "ipython3",
   "version": "3.7.3"
  }
 },
 "nbformat": 4,
 "nbformat_minor": 2
}
