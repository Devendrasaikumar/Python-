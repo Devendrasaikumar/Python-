{
 "cells": [
  {
   "cell_type": "markdown",
   "metadata": {},
   "source": [
    "# <font color='Blue'>Numpy.</font>"
   ]
  },
  {
   "cell_type": "markdown",
   "metadata": {},
   "source": [
    "<font color='black'>1.NumPy is a Python library, used for working with arrays.</font>"
   ]
  },
  {
   "cell_type": "markdown",
   "metadata": {},
   "source": [
    "<font color='black'>2.using of numpy we can make statical calculations.</font>"
   ]
  },
  {
   "cell_type": "code",
   "execution_count": null,
   "metadata": {},
   "outputs": [],
   "source": [
    "! pip install \"numpy\" #--------> Package Install"
   ]
  },
  {
   "cell_type": "code",
   "execution_count": 3,
   "metadata": {},
   "outputs": [],
   "source": [
    "import numpy as np #----------> Importing Library"
   ]
  },
  {
   "cell_type": "code",
   "execution_count": 47,
   "metadata": {},
   "outputs": [
    {
     "data": {
      "text/plain": [
       "(23, 24, 25, 226)"
      ]
     },
     "execution_count": 47,
     "metadata": {},
     "output_type": "execute_result"
    }
   ],
   "source": [
    "a=(23,24,25,226) #------------> creating normal data\n",
    "a"
   ]
  },
  {
   "cell_type": "code",
   "execution_count": 48,
   "metadata": {},
   "outputs": [
    {
     "data": {
      "text/plain": [
       "24"
      ]
     },
     "execution_count": 48,
     "metadata": {},
     "output_type": "execute_result"
    }
   ],
   "source": [
    "a[1]"
   ]
  },
  {
   "cell_type": "code",
   "execution_count": 4,
   "metadata": {},
   "outputs": [
    {
     "name": "stdout",
     "output_type": "stream",
     "text": [
      "[ 23  24  25 226]\n",
      "[ 24  22  21 223]\n",
      "[ 26  27  28 299]\n"
     ]
    },
    {
     "data": {
      "text/plain": [
       "array([[ 23,  24,  25, 226],\n",
       "       [ 24,  22,  21, 223],\n",
       "       [ 26,  27,  28, 299]])"
      ]
     },
     "execution_count": 4,
     "metadata": {},
     "output_type": "execute_result"
    }
   ],
   "source": [
    "b=np.array([23,24,25,226]) #----------> Using numpy creating data \n",
    "print(b)\n",
    "c=np.array([24,22,21,223])\n",
    "print(c)\n",
    "d=np.array([26,27,28,299])\n",
    "print(d)\n",
    "e=np.vstack((b,c,d))  #---------------> in numpy library using (vstack) to combine three data sets in single\n",
    "e"
   ]
  },
  {
   "cell_type": "code",
   "execution_count": 50,
   "metadata": {},
   "outputs": [
    {
     "name": "stdout",
     "output_type": "stream",
     "text": [
      "23\n",
      "26\n",
      "25\n",
      "27\n",
      "28\n"
     ]
    }
   ],
   "source": [
    "# Accessing Variables\n",
    "\n",
    "\n",
    "q=e[0,0]\n",
    "print(q)\n",
    "\n",
    "w=e[2,0]\n",
    "print(w)\n",
    "\n",
    "r=e[0,2]\n",
    "print(r)\n",
    "\n",
    "t=e[2,1]\n",
    "print(t)\n",
    "\n",
    "y=e[2,2]\n",
    "print(y)\n"
   ]
  },
  {
   "cell_type": "code",
   "execution_count": 51,
   "metadata": {},
   "outputs": [
    {
     "name": "stdout",
     "output_type": "stream",
     "text": [
      "[ 23  24  25 226]\n",
      "74.5\n",
      "24.5\n",
      "87.47142390518174\n",
      "7651.25\n",
      "23\n",
      "226\n",
      "23.75\n",
      "24.5\n",
      "75.25\n"
     ]
    }
   ],
   "source": [
    "# Calculating Statistical Calculations\n",
    "\n",
    "x=np.array([23,24,25,226])\n",
    "print(x)\n",
    "\n",
    "z=np.mean(x)\n",
    "v=np.median(x)\n",
    "n=np.std(x)\n",
    "m=np.var(x)\n",
    "k=np.min(x)\n",
    "j=np.max(x)\n",
    "h=np.percentile(x,25)\n",
    "g=np.percentile(x,50)\n",
    "f=np.percentile(x,75)\n",
    "\n",
    "print(z)\n",
    "print(v)\n",
    "print(n)\n",
    "print(m)\n",
    "print(k)\n",
    "print(j)\n",
    "print(h)\n",
    "print(g)\n",
    "print(f)\n",
    "\n",
    "\n"
   ]
  },
  {
   "cell_type": "code",
   "execution_count": 5,
   "metadata": {},
   "outputs": [
    {
     "name": "stdout",
     "output_type": "stream",
     "text": [
      "[17 16 19 16 11]\n"
     ]
    },
    {
     "data": {
      "text/plain": [
       "array([[18, 19, 16, 19],\n",
       "       [15, 12, 18, 19],\n",
       "       [16, 13, 13, 17]])"
      ]
     },
     "execution_count": 5,
     "metadata": {},
     "output_type": "execute_result"
    }
   ],
   "source": [
    "# Creating Random Variables \n",
    "\n",
    "a1=np.random.randint(11,20,size=(5))\n",
    "print(a1)\n",
    "\n",
    "a2=np.random.randint(11,20,size=(3,4))\n",
    "a2"
   ]
  },
  {
   "cell_type": "code",
   "execution_count": 14,
   "metadata": {},
   "outputs": [
    {
     "data": {
      "text/plain": [
       "8"
      ]
     },
     "execution_count": 14,
     "metadata": {},
     "output_type": "execute_result"
    }
   ],
   "source": [
    "import numpy as np\n",
    "\n",
    "np.random.randint(1.5,10.5)"
   ]
  },
  {
   "cell_type": "markdown",
   "metadata": {},
   "source": [
    "# <font color='red'>END.</font>"
   ]
  },
  {
   "cell_type": "code",
   "execution_count": null,
   "metadata": {},
   "outputs": [],
   "source": []
  }
 ],
 "metadata": {
  "kernelspec": {
   "display_name": "Python 3",
   "language": "python",
   "name": "python3"
  },
  "language_info": {
   "codemirror_mode": {
    "name": "ipython",
    "version": 3
   },
   "file_extension": ".py",
   "mimetype": "text/x-python",
   "name": "python",
   "nbconvert_exporter": "python",
   "pygments_lexer": "ipython3",
   "version": "3.7.3"
  }
 },
 "nbformat": 4,
 "nbformat_minor": 2
}
