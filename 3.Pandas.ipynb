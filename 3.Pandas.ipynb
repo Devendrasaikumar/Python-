{
 "cells": [
  {
   "cell_type": "markdown",
   "metadata": {},
   "source": [
    "# <font color='Blue'>Pandas.</font>"
   ]
  },
  {
   "cell_type": "markdown",
   "metadata": {},
   "source": [
    "<font color='Black'>1. using this pandas we can  importing a file.</font>"
   ]
  },
  {
   "cell_type": "markdown",
   "metadata": {},
   "source": [
    "<font color='Black'>2.With the help of pandas we can do...</font>\n"
   ]
  },
  {
   "cell_type": "markdown",
   "metadata": {},
   "source": [
    "-  Exploring Data\n",
    "-  Data Preparation"
   ]
  },
  {
   "cell_type": "markdown",
   "metadata": {},
   "source": [
    "### Exploring Data Topics"
   ]
  },
  {
   "cell_type": "markdown",
   "metadata": {},
   "source": [
    "- Loading data Frames and Creating Data Frames\n",
    "- Accessing and Manipulating Data\n",
    "- Filtering and Selecting Data\n",
    "- Adding and Removing coloumns\n",
    "- Merging and Concatenating Data Frames\n",
    "- Grouping and Aggregating data\n",
    "- Pivot table"
   ]
  },
  {
   "cell_type": "markdown",
   "metadata": {},
   "source": [
    "### Data Preparation Topics"
   ]
  },
  {
   "cell_type": "markdown",
   "metadata": {},
   "source": [
    "- Handling Missing Values\n",
    "- Handling Duplicates\n",
    "- Data Formatting\n",
    "- Data Transformation\n",
    "- Data Normalization"
   ]
  },
  {
   "cell_type": "markdown",
   "metadata": {},
   "source": [
    "### <font color='purple'>Exploring Data.</font>"
   ]
  },
  {
   "cell_type": "markdown",
   "metadata": {},
   "source": [
    "### <font color='orange'>1.Loading DataFrames  AND  Creating DataFrames.</font>"
   ]
  },
  {
   "cell_type": "code",
   "execution_count": 4,
   "metadata": {},
   "outputs": [],
   "source": [
    "import pandas as pd"
   ]
  },
  {
   "cell_type": "code",
   "execution_count": 12,
   "metadata": {},
   "outputs": [],
   "source": [
    "df=pd.read_excel(\"D:/Sai/SaleData.xlsx\") #---------------------------> Excel file code\n",
    "df"
   ]
  },
  {
   "cell_type": "code",
   "execution_count": 13,
   "metadata": {},
   "outputs": [],
   "source": [
    "df1=pd.read_csv(\"D:/Sai/BrentOilPrices.csv\")   #---------------------------> Csv file code\n",
    "df1"
   ]
  },
  {
   "cell_type": "markdown",
   "metadata": {},
   "source": [
    "__________________________________________________________________"
   ]
  },
  {
   "cell_type": "markdown",
   "metadata": {},
   "source": []
  },
  {
   "cell_type": "markdown",
   "metadata": {},
   "source": [
    "### <font color='orange'>Creating our Own DataFrames.</font>\n",
    "\n",
    "- We can Use list are Dictionary to create our new dataframe."
   ]
  },
  {
   "cell_type": "markdown",
   "metadata": {},
   "source": [
    "### Basic Syntax to create new Data Frame\n",
    "\n",
    "#### Syntax  :-  pandas.DataFrame(data, index, columns)\n",
    "\n",
    "\n",
    "\n",
    "\n",
    "\n"
   ]
  },
  {
   "cell_type": "markdown",
   "metadata": {},
   "source": [
    "- data    :-  Which to be created.\n",
    "- index   :-  Its Optional.\n",
    "- columns :-  Provide Coloumns names"
   ]
  },
  {
   "cell_type": "code",
   "execution_count": 6,
   "metadata": {},
   "outputs": [
    {
     "name": "stdout",
     "output_type": "stream",
     "text": [
      "Empty DataFrame\n",
      "Columns: []\n",
      "Index: []\n"
     ]
    }
   ],
   "source": [
    "import pandas as pd\n",
    "a=pd.DataFrame()\n",
    "print(a)"
   ]
  },
  {
   "cell_type": "markdown",
   "metadata": {},
   "source": [
    "###### 1.Creating Dataframe using Lists"
   ]
  },
  {
   "cell_type": "code",
   "execution_count": 21,
   "metadata": {},
   "outputs": [
    {
     "name": "stdout",
     "output_type": "stream",
     "text": [
      "[['MS', 10], ['Sai', 20], ['Kumar', 30]]\n",
      "    Name  Age\n",
      "0     MS   10\n",
      "1    Sai   20\n",
      "2  Kumar   30\n"
     ]
    },
    {
     "data": {
      "text/plain": [
       "list"
      ]
     },
     "execution_count": 21,
     "metadata": {},
     "output_type": "execute_result"
    }
   ],
   "source": [
    "import pandas as pd \n",
    "\n",
    "df=[[\"MS\",10],[\"Sai\",20],[\"Kumar\",30]]\n",
    "print(df)\n",
    "\n",
    "df1=pd.DataFrame(df,columns=[\"Name\",\"Age\"])\n",
    "print(df1)\n",
    "\n",
    "type(df)"
   ]
  },
  {
   "cell_type": "markdown",
   "metadata": {},
   "source": [
    "###### 2.Creating Dataframe using Dictionary."
   ]
  },
  {
   "cell_type": "code",
   "execution_count": 22,
   "metadata": {},
   "outputs": [
    {
     "name": "stdout",
     "output_type": "stream",
     "text": [
      "    name  age\n",
      "0    Sai   10\n",
      "1     Ms   20\n",
      "2  Kumar   30\n"
     ]
    },
    {
     "data": {
      "text/plain": [
       "dict"
      ]
     },
     "execution_count": 22,
     "metadata": {},
     "output_type": "execute_result"
    }
   ],
   "source": [
    "import pandas as pd\n",
    "\n",
    "a={\"name\":[\"Sai\",\"Ms\",\"Kumar\"],\n",
    "   \"age\":[10,20,30]}\n",
    "\n",
    "b=pd.DataFrame(a)\n",
    "print(b)\n",
    "\n",
    "type(a)"
   ]
  },
  {
   "cell_type": "markdown",
   "metadata": {},
   "source": [
    "__________________________________________________________________"
   ]
  },
  {
   "cell_type": "markdown",
   "metadata": {},
   "source": []
  },
  {
   "cell_type": "markdown",
   "metadata": {},
   "source": [
    "### <font color='orange'>2. Accessing Data   AND  Manipulating Data.</font>\n",
    "\n",
    "\n",
    "##### <font color='red'>Accessing Data.</font>\n",
    "\n"
   ]
  },
  {
   "cell_type": "markdown",
   "metadata": {},
   "source": [
    "- You can Fetch a single iteam from a data, Or Multiple iteam\n",
    "\n",
    "- with the help of Data Location, Or Variable name we can Access the data \n",
    "\n",
    "- We can Access Both Columns And Rows"
   ]
  },
  {
   "cell_type": "code",
   "execution_count": 50,
   "metadata": {},
   "outputs": [
    {
     "name": "stdout",
     "output_type": "stream",
     "text": [
      "0    2\n",
      "1    3\n",
      "2    4\n",
      "Name: ms, dtype: int64\n"
     ]
    }
   ],
   "source": [
    "# Creating Data frame with Dictionary And Accessing with variable name\n",
    "\n",
    "d={\"ms\":[2,3,4],\n",
    "    \"sai\":[5,6,7]}\n",
    "\n",
    "f=pd.DataFrame(d)\n",
    "\n",
    "print(f[\"ms\"])  #----------------------------------------------------------->>>   Access with variable names (columns)"
   ]
  },
  {
   "cell_type": "code",
   "execution_count": 3,
   "metadata": {},
   "outputs": [
    {
     "name": "stdout",
     "output_type": "stream",
     "text": [
      "0    Kumar\n",
      "1       40\n",
      "Name: 2, dtype: object\n"
     ]
    }
   ],
   "source": [
    "# Creating data frame with list and Accessing with location\n",
    "\n",
    "import pandas as pd\n",
    "\n",
    "g=[[\"Sai\",\"Ms\",\"Kumar\"],[20,30,40]]\n",
    "\n",
    "j=pd.DataFrame(g)\n",
    "\n",
    "print(j[2])    #----------------------------------------------------------->>>   Access with Location (columns)"
   ]
  },
  {
   "cell_type": "code",
   "execution_count": 9,
   "metadata": {},
   "outputs": [
    {
     "name": "stdout",
     "output_type": "stream",
     "text": [
      "   king  Queen\n",
      "0    42     55\n",
      "1    44     67\n",
      "2    45     68\n",
      "king     44\n",
      "Queen    67\n",
      "Name: 1, dtype: int64\n",
      "Queen\n"
     ]
    }
   ],
   "source": [
    "# Access the Rows and columns using their respective functions \n",
    "\n",
    "k={\"king\":[42,44,45],\n",
    "    \"Queen\":[55,67,68]}\n",
    "\n",
    "l=pd.DataFrame(k)\n",
    "print(l)\n",
    "\n",
    "q=l.loc[1,k]   #----------------------------------------------------------->>>   Access Rows Using (( data.loc() ))\n",
    "print(q)\n",
    "\n",
    "w=l.columns[1]    ##----------------------------------------------------------->>>   Access Columns Using (( data.columns() ))\n",
    "print(w)"
   ]
  },
  {
   "cell_type": "code",
   "execution_count": null,
   "metadata": {},
   "outputs": [],
   "source": []
  },
  {
   "cell_type": "markdown",
   "metadata": {},
   "source": [
    "#### <font color='red'>Manipulating Data.</font>\n",
    "\n",
    "- This is the important topic for **\"Data Exploration\"**\n",
    "\n",
    "- They have some functions here"
   ]
  },
  {
   "cell_type": "markdown",
   "metadata": {},
   "source": [
    "- 1.filter()\n",
    "- 2.distinct()\n",
    "- 3.Arrange()\n",
    "- 4.Select()\n",
    "- 5.Rename()\n",
    "- 6.Mutate()\n",
    "- 7.Transumate()\n",
    "- 8.Summarize()"
   ]
  },
  {
   "cell_type": "markdown",
   "metadata": {},
   "source": [
    "#### <font color='red'>FilterData.</font>"
   ]
  },
  {
   "cell_type": "code",
   "execution_count": 27,
   "metadata": {},
   "outputs": [
    {
     "name": "stdout",
     "output_type": "stream",
     "text": [
      "    ID  Score  wik\n",
      "0  101     20    1\n",
      "1  102     30    2\n",
      "2  103     40    3\n",
      "3  104     50    4\n",
      "    ID  Score  wik\n",
      "2  103     40    3\n",
      "3  104     50    4\n",
      "2    40\n",
      "3    50\n",
      "Name: Score, dtype: int64\n"
     ]
    }
   ],
   "source": [
    "# Creating a Data Frame (Dictionary)\n",
    "\n",
    "import pandas as pd\n",
    "s={\n",
    "    \"ID\":[101,102,103,104],\n",
    "    \"Score\":[20,30,40,50],\n",
    "    \"wik\":[1,2,3,4]\n",
    "}\n",
    "f=pd.DataFrame(s)\n",
    "print(f)\n",
    "\n",
    "\n",
    "\n",
    "# Filtering data frame wik morethan 2 \n",
    "\n",
    "filterdata=f[f[\"wik\"]>2]\n",
    "print(filterdata)\n",
    "\n",
    "\n",
    "\n",
    "# Filtering Data only Score columns using .loc function \n",
    "\n",
    "filtered_score = f.loc[f[\"Score\"] > 30, \"Score\"]\n",
    "print(filtered_score)"
   ]
  },
  {
   "cell_type": "markdown",
   "metadata": {},
   "source": [
    "#### <font color='red'>Distinct (Unique).</font>"
   ]
  },
  {
   "cell_type": "markdown",
   "metadata": {},
   "source": [
    "- Removing Duplicates Values in Data set "
   ]
  },
  {
   "cell_type": "code",
   "execution_count": 54,
   "metadata": {},
   "outputs": [
    {
     "name": "stdout",
     "output_type": "stream",
     "text": [
      "Unique Names:\n",
      "['Sai' 'Bob' 'Charlie' 'David' 'Emily' 'Alice']\n",
      "      Name  Age         City\n",
      "0      Sai   30     New York\n",
      "1      Bob   30  Los Angeles\n",
      "2  Charlie   35      Chicago\n",
      "3    David   28      Houston\n",
      "4    Emily   32       Boston\n",
      "5    Alice   25     New York\n",
      "Unique Records based on City:\n",
      "      Name  Age         City\n",
      "0      Sai   30     New York\n",
      "1      Bob   30  Los Angeles\n",
      "2  Charlie   35      Chicago\n",
      "3    David   28      Houston\n",
      "4    Emily   32       Boston\n"
     ]
    }
   ],
   "source": [
    "# Unique \n",
    "\n",
    "import pandas as pd\n",
    "\n",
    "# Sample data\n",
    "data = {\n",
    "    'Name': ['Sai', 'Bob', 'Charlie', 'David', 'Emily', 'Alice'],\n",
    "    'Age': [30, 30, 35, 28, 32, 25],\n",
    "    'City': ['New York', 'Los Angeles', 'Chicago', 'Houston', 'Boston', 'New York']\n",
    "}\n",
    "\n",
    "# Create a DataFrame\n",
    "df = pd.DataFrame(data)\n",
    "\n",
    "# Getting only unique values in 'Name' column\n",
    "unique_names = df['Name'].unique()\n",
    "\n",
    "print(\"Unique Names:\")\n",
    "print(unique_names)\n",
    "\n",
    "\n",
    "\n",
    "\n",
    "# Drop it duplicates \n",
    "unique = df.drop_duplicates()\n",
    "print(unique)\n",
    "\n",
    "\n",
    "\n",
    "\n",
    "# Drop it aa  duplicates based on 'City' column\n",
    "unique_records = df.drop_duplicates(subset=['City'])\n",
    "\n",
    "print(\"Unique Records based on City:\")\n",
    "print(unique_records)"
   ]
  },
  {
   "cell_type": "markdown",
   "metadata": {},
   "source": [
    "#### <font color='red'>Arrange (Sorting).</font>"
   ]
  },
  {
   "cell_type": "markdown",
   "metadata": {},
   "source": [
    "- Arrange they Dont have In-Bulit function in Python\n",
    "\n",
    "- Sorting they have In-Built function in Python We can use it."
   ]
  },
  {
   "cell_type": "markdown",
   "metadata": {},
   "source": [
    "- We can Sort the List, Tuples, strings, Dictinory Data Sets.\n",
    "- Default we can Sort Accessding Order in Data Sets"
   ]
  },
  {
   "cell_type": "code",
   "execution_count": 10,
   "metadata": {},
   "outputs": [
    {
     "name": "stdout",
     "output_type": "stream",
     "text": [
      "[0, 1, 1, 2, 3, 3, 4, 5, 5, 5, 6]\n",
      "['a', 'b', 'c', 'd']\n",
      "['h', 'n', 'o', 'p', 't', 'y']\n",
      "[('apple', 5), ('banana', 8), ('orange', 2)]\n"
     ]
    }
   ],
   "source": [
    "# Using List Data Set\n",
    "\n",
    "numbers = [3, 1, 4, 1, 5, 0, 2, 6, 5, 3, 5]\n",
    "sorted_numbers = sorted(numbers)\n",
    "print(sorted_numbers)\n",
    "\n",
    "\n",
    "\n",
    "\n",
    "# Using Tuple Data Set\n",
    "\n",
    "letters = ('b', 'd', 'a', 'c')\n",
    "sorted_letters = sorted(letters)\n",
    "print(sorted_letters)  \n",
    "\n",
    "\n",
    "# Using String\n",
    "\n",
    "word = \"python\"\n",
    "sorted_word = sorted(word)\n",
    "print(sorted_word)  \n",
    "\n",
    "\n",
    "\n",
    "\n",
    "# Using Dictinory\n",
    "\n",
    "my_dict = {'apple': 5, 'orange': 2, 'banana': 8}\n",
    "sorted_dict = sorted(my_dict.items())\n",
    "print(sorted_dict) \n",
    "\n",
    "\n"
   ]
  },
  {
   "cell_type": "markdown",
   "metadata": {},
   "source": [
    "#### <font color='red'>Selecting.</font>"
   ]
  },
  {
   "cell_type": "markdown",
   "metadata": {},
   "source": [
    "- They Don't have any In-Built function for selecting here in Python.\n",
    "\n",
    "- We can Access using direct condition here."
   ]
  },
  {
   "cell_type": "code",
   "execution_count": 31,
   "metadata": {},
   "outputs": [
    {
     "name": "stdout",
     "output_type": "stream",
     "text": [
      "      Name  Age\n",
      "1      Bob   30\n",
      "2  Charlie   35\n",
      "3    David   40\n",
      "4      Eve   45\n"
     ]
    }
   ],
   "source": [
    "import pandas as pd\n",
    "\n",
    "# Sample Data\n",
    "data = {\n",
    "    'Name': ['Alice', 'Bob', 'Charlie', 'David', 'Eve'],\n",
    "    'Age': [25, 30, 35, 40, 45]\n",
    "}\n",
    "df = pd.DataFrame(data)\n",
    "\n",
    "# Selecting rows where Age is greater than and Equal to 30\n",
    "selected_rows = df.loc[df['Age']  >= 30]\n",
    "print(selected_rows)"
   ]
  },
  {
   "cell_type": "markdown",
   "metadata": {},
   "source": [
    "#### <font color='red'>Rename.</font>"
   ]
  },
  {
   "cell_type": "markdown",
   "metadata": {},
   "source": [
    "- We Can Change the Variables names using Rename function."
   ]
  },
  {
   "cell_type": "code",
   "execution_count": 52,
   "metadata": {},
   "outputs": [
    {
     "name": "stdout",
     "output_type": "stream",
     "text": [
      "      Name  Ag  Weight\n",
      "0    Alice  25      45\n",
      "1      Bob  30      46\n",
      "2  Charlie  35      47\n",
      "3    David  40      48\n",
      "4      Eve  45      50\n",
      "        Na  Ag  wg\n",
      "0    Alice  25  45\n",
      "1      Bob  30  46\n",
      "2  Charlie  35  47\n",
      "3    David  40  48\n",
      "4      Eve  45  50\n"
     ]
    }
   ],
   "source": [
    "# Sample Data\n",
    "data = {\n",
    "    'Name': ['Alice', 'Bob', 'Charlie', 'David', 'Eve'],\n",
    "    'Age': [25, 30, 35, 40, 45],\n",
    "    'Weight':[45,46,47,48,50]\n",
    "}\n",
    "df = pd.DataFrame(data)\n",
    "\n",
    "# Changing Columns Age to Ag\n",
    "df.rename(columns={'Age': 'Ag'}, inplace=True)\n",
    "print(df)\n",
    "\n",
    "\n",
    "# Changing all columns names at a time\n",
    "\n",
    "df1={'Name':'Na',\n",
    "     'Age':'Ag',\n",
    "     'Weight':'wg'}\n",
    "\n",
    "\n",
    "df.rename(columns=df1,inplace=True)\n",
    "print(df)\n",
    "\n"
   ]
  },
  {
   "cell_type": "markdown",
   "metadata": {},
   "source": [
    "#### <font color='red'>Mutate.</font>"
   ]
  },
  {
   "cell_type": "markdown",
   "metadata": {},
   "source": [
    "- Mutate, their is no in built function in python\n",
    "- With the help of this Mutate we can do Modifying or add data directly without Dropping old Variables "
   ]
  },
  {
   "cell_type": "code",
   "execution_count": 11,
   "metadata": {},
   "outputs": [
    {
     "name": "stdout",
     "output_type": "stream",
     "text": [
      "Mutated DataFrame:\n",
      "      Name  Age  AgePlusTen\n",
      "0    Alice   25          35\n",
      "1      Bob   30          40\n",
      "2  Charlie   35          45\n",
      "3    David   40          50\n",
      "4      Eve   45          55\n"
     ]
    }
   ],
   "source": [
    "import pandas as pd\n",
    "\n",
    "# Sample DataFrame\n",
    "data = {\n",
    "    'Name': ['Alice', 'Bob', 'Charlie', 'David', 'Eve'],\n",
    "    'Age': [25, 30, 35, 40, 45]\n",
    "}\n",
    "df = pd.DataFrame(data)\n",
    "\n",
    "# Adding a new column 'AgePlusTen' to the DataFrame 'df'\n",
    "df['AgePlusTen'] = df['Age'] + 10\n",
    "\n",
    "print(\"Mutated DataFrame:\")\n",
    "print(df)"
   ]
  },
  {
   "cell_type": "markdown",
   "metadata": {},
   "source": [
    "#### <font color='red'>Transmutate.</font>"
   ]
  },
  {
   "cell_type": "markdown",
   "metadata": {},
   "source": [
    "- Creates a new object or structure with transformed or calculated data, leaving the original object unchanged."
   ]
  },
  {
   "cell_type": "code",
   "execution_count": 13,
   "metadata": {},
   "outputs": [
    {
     "name": "stdout",
     "output_type": "stream",
     "text": [
      "      Name  Age  Weight  AgeOverWeight\n",
      "0    Alice   25      45       0.555556\n",
      "1      Bob   30      46       0.652174\n",
      "2  Charlie   35      47       0.744681\n",
      "3    David   40      48       0.833333\n",
      "4      Eve   45      50       0.900000\n"
     ]
    }
   ],
   "source": [
    "\n",
    "\n",
    "import pandas as pd\n",
    "\n",
    "# Sample DataFrame\n",
    "data = {\n",
    "    'Name': ['Alice', 'Bob', 'Charlie', 'David', 'Eve'],\n",
    "    'Age': [25, 30, 35, 40, 45],\n",
    "    'Weight': [45, 46, 47, 48, 50]\n",
    "}\n",
    "df = pd.DataFrame(data)\n",
    "\n",
    "# Creating a new DataFrame 'df_transmuted' with a calculated column 'AgeOverWeight'\n",
    "df_transmuted = df.assign(AgeOverWeight=df['Age'] / df['Weight'])\n",
    "print(df_transmuted)\n"
   ]
  },
  {
   "cell_type": "markdown",
   "metadata": {},
   "source": [
    "#### <font color='red'>Describe.</font>"
   ]
  },
  {
   "cell_type": "markdown",
   "metadata": {},
   "source": [
    "- It will Detail about the Data Set"
   ]
  },
  {
   "cell_type": "code",
   "execution_count": 69,
   "metadata": {},
   "outputs": [
    {
     "name": "stdout",
     "output_type": "stream",
     "text": [
      "count     5.000000\n",
      "mean     35.000000\n",
      "std       7.905694\n",
      "min      25.000000\n",
      "25%      30.000000\n",
      "50%      35.000000\n",
      "75%      40.000000\n",
      "max      45.000000\n",
      "Name: Age, dtype: float64\n",
      "             Age     Weight\n",
      "count   5.000000   5.000000\n",
      "mean   35.000000  47.200000\n",
      "std     7.905694   1.923538\n",
      "min    25.000000  45.000000\n",
      "25%    30.000000  46.000000\n",
      "50%    35.000000  47.000000\n",
      "75%    40.000000  48.000000\n",
      "max    45.000000  50.000000\n"
     ]
    }
   ],
   "source": [
    "data = {\n",
    "    'Name': ['Alice', 'Bob', 'Charlie', 'David', 'Eve'],\n",
    "    'Age': [25, 30, 35, 40, 45],\n",
    "    'Weight': [45, 46, 47, 48, 50]\n",
    "}\n",
    "df = pd.DataFrame(data)\n",
    "\n",
    "df1=df[\"Age\"].describe()\n",
    "print(df1)\n",
    "\n",
    "\n",
    "df2=df.describe()\n",
    "print(df2)\n"
   ]
  },
  {
   "cell_type": "code",
   "execution_count": null,
   "metadata": {},
   "outputs": [],
   "source": []
  },
  {
   "cell_type": "markdown",
   "metadata": {},
   "source": [
    "### <font color='orange'>Merging AND Concatenating DataFrames.</font>"
   ]
  },
  {
   "cell_type": "markdown",
   "metadata": {},
   "source": [
    "#### <font color='red'>Merging.</font>\n"
   ]
  },
  {
   "cell_type": "markdown",
   "metadata": {},
   "source": [
    "- With the help of this Merging function we can merge two dataframes With same column Variable names, will get what it Matches"
   ]
  },
  {
   "cell_type": "code",
   "execution_count": 73,
   "metadata": {},
   "outputs": [
    {
     "name": "stdout",
     "output_type": "stream",
     "text": [
      "   employee_id   name  age   department\n",
      "0            1  Alice   25           HR\n",
      "1            2    Bob   30  Engineering\n",
      "2            4  David   40    Marketing\n"
     ]
    }
   ],
   "source": [
    "import pandas as pd\n",
    "\n",
    "# Sample DataFrames\n",
    "df_employee = pd.DataFrame({\n",
    "    'employee_id': [1, 2, 3, 4],\n",
    "    'name': ['Alice', 'Bob', 'Charlie', 'David'],\n",
    "    'age': [25, 30, 35, 40]\n",
    "})\n",
    "\n",
    "df_department = pd.DataFrame({\n",
    "    'employee_id': [1, 2, 4, 5],\n",
    "    'department': ['HR', 'Engineering', 'Marketing', 'Finance']\n",
    "})\n",
    "\n",
    "# Merge based on 'employee_id'\n",
    "merged_df = pd.merge(df_employee, df_department, on='employee_id')\n",
    "print(merged_df)\n"
   ]
  },
  {
   "cell_type": "markdown",
   "metadata": {},
   "source": [
    "#### <font color='red'>Concatenating.</font>\n"
   ]
  },
  {
   "cell_type": "markdown",
   "metadata": {},
   "source": [
    "- With the help of this Concatenating function we cam combine two dataframes either Horizontal OR Vertical without using Colums "
   ]
  },
  {
   "cell_type": "code",
   "execution_count": 78,
   "metadata": {},
   "outputs": [
    {
     "name": "stdout",
     "output_type": "stream",
     "text": [
      "   employee_id     name  age  employee_id   department\n",
      "0            1    Alice   25            1           HR\n",
      "1            2      Bob   30            2  Engineering\n",
      "2            3  Charlie   35            4    Marketing\n",
      "3            4    David   40            5      Finance\n"
     ]
    }
   ],
   "source": [
    "# Sample DataFrames\n",
    "df_employee = pd.DataFrame({\n",
    "    'employee_id': [1, 2, 3, 4],\n",
    "    'name': ['Alice', 'Bob', 'Charlie', 'David'],\n",
    "    'age': [25, 30, 35, 40]\n",
    "})\n",
    "\n",
    "df_department = pd.DataFrame({\n",
    "    'employee_id': [1, 2, 4, 5],\n",
    "    'department': ['HR', 'Engineering', 'Marketing', 'Finance']\n",
    "})\n",
    "\n",
    "\n",
    "Concat=pd.concat([df_employee,df_department],axis=1)   # axis = 1 -----------------> Horizontal\n",
    "print(Concat)                                          # axis = 0 -----------------> Vertical"
   ]
  },
  {
   "cell_type": "markdown",
   "metadata": {},
   "source": [
    "### <font color='orange'>Grouping AND Aggregating functions.</font>"
   ]
  },
  {
   "cell_type": "markdown",
   "metadata": {},
   "source": [
    "#### <font color='red'>Grouping.</font>\n"
   ]
  },
  {
   "cell_type": "markdown",
   "metadata": {},
   "source": [
    "- **df.groupby()**, This is the In-Built function for this, Here they can from all groups and we can use any statistical calculations "
   ]
  },
  {
   "cell_type": "code",
   "execution_count": 27,
   "metadata": {},
   "outputs": [
    {
     "name": "stdout",
     "output_type": "stream",
     "text": [
      "Region\n",
      "Central    829769.5\n",
      "East       321007.0\n",
      "West       154899.0\n",
      "Name: Sale_amt, dtype: float64\n",
      "          Month  Units  Unit_price\n",
      "Sale_amt                          \n",
      "250.0       9.0    2.0       125.0\n",
      "375.0       8.0    3.0       125.0\n",
      "625.0       6.0    5.0       125.0\n",
      "936.0       9.0   16.0        58.5\n",
      "2000.0      2.0    4.0       500.0\n",
      "2457.0      8.0   42.0        58.5\n",
      "2925.0      3.0   50.0        58.5\n",
      "3217.5      7.0   55.0        58.5\n",
      "3375.0     11.0   15.0       225.0\n",
      "3500.0      3.0    7.0       500.0\n",
      "3627.0      7.0   62.0        58.5\n",
      "4329.0     12.0   74.0        58.5\n",
      "5500.0     11.0   11.0       500.0\n",
      "5616.0     11.0   96.0        58.5\n",
      "6075.0      2.0   27.0       225.0\n",
      "8386.0      9.0    7.0      1198.0\n",
      "14000.0    11.0   28.0       500.0\n",
      "14400.0    10.0   64.0       225.0\n",
      "14500.0     7.0   29.0       500.0\n",
      "16772.0    10.0   14.0      1198.0\n",
      "17100.0     9.0   76.0       225.0\n",
      "21600.0     4.0   96.0       225.0\n",
      "23000.0     1.0   46.0       500.0\n",
      "25000.0     1.0   50.0       500.0\n",
      "28500.0    10.0   57.0       500.0\n",
      "30000.0     5.0   60.0       500.0\n",
      "38336.0     5.0   32.0      1198.0\n",
      "40000.0     5.0   80.0       500.0\n",
      "40500.0     7.0   81.0       500.0\n",
      "41930.0     8.0   35.0      1198.0\n",
      "43128.0     2.0   36.0      1198.0\n",
      "43500.0     2.0   87.0       500.0\n",
      "47000.0    12.0   94.0       500.0\n",
      "63494.0     5.0   53.0      1198.0\n",
      "67088.0     3.0   56.0      1198.0\n",
      "79068.0     4.0   66.0      1198.0\n",
      "80266.0    12.0   67.0      1198.0\n",
      "89850.0     4.0   75.0      1198.0\n",
      "107820.0    5.5   90.0      1198.0\n",
      "113810.0    1.0   95.0      1198.0\n"
     ]
    }
   ],
   "source": [
    "import pandas as pd\n",
    "f=pd.read_excel(\"D:/Sai/SaleData.xlsx\")\n",
    "f\n",
    "\n",
    "group1 = f.groupby(\"Region\")[\"Sale_amt\"].sum()\n",
    "print(group1)\n",
    "\n",
    "\n",
    "group2 = f.groupby(\"Sale_amt\").mean()\n",
    "print(group2)"
   ]
  },
  {
   "cell_type": "markdown",
   "metadata": {},
   "source": [
    "#### <font color='red'>Aggregating Functions.</font>"
   ]
  },
  {
   "cell_type": "markdown",
   "metadata": {},
   "source": [
    "- **df.aggregate()**, it's a In-Built function we can use to make a statistacal calculations all at a time"
   ]
  },
  {
   "cell_type": "code",
   "execution_count": 29,
   "metadata": {},
   "outputs": [
    {
     "data": {
      "text/html": [
       "<div>\n",
       "<style scoped>\n",
       "    .dataframe tbody tr th:only-of-type {\n",
       "        vertical-align: middle;\n",
       "    }\n",
       "\n",
       "    .dataframe tbody tr th {\n",
       "        vertical-align: top;\n",
       "    }\n",
       "\n",
       "    .dataframe thead th {\n",
       "        text-align: right;\n",
       "    }\n",
       "</style>\n",
       "<table border=\"1\" class=\"dataframe\">\n",
       "  <thead>\n",
       "    <tr style=\"text-align: right;\">\n",
       "      <th></th>\n",
       "      <th>OrderDate</th>\n",
       "      <th>Units</th>\n",
       "      <th>Sale_amt</th>\n",
       "    </tr>\n",
       "  </thead>\n",
       "  <tbody>\n",
       "    <tr>\n",
       "      <th>max</th>\n",
       "      <td>2019-12-21</td>\n",
       "      <td>NaN</td>\n",
       "      <td>NaN</td>\n",
       "    </tr>\n",
       "    <tr>\n",
       "      <th>min</th>\n",
       "      <td>2018-01-06</td>\n",
       "      <td>NaN</td>\n",
       "      <td>NaN</td>\n",
       "    </tr>\n",
       "    <tr>\n",
       "      <th>sum</th>\n",
       "      <td>NaT</td>\n",
       "      <td>2121.0</td>\n",
       "      <td>1305675.5</td>\n",
       "    </tr>\n",
       "  </tbody>\n",
       "</table>\n",
       "</div>"
      ],
      "text/plain": [
       "     OrderDate   Units   Sale_amt\n",
       "max 2019-12-21     NaN        NaN\n",
       "min 2018-01-06     NaN        NaN\n",
       "sum        NaT  2121.0  1305675.5"
      ]
     },
     "execution_count": 29,
     "metadata": {},
     "output_type": "execute_result"
    }
   ],
   "source": [
    "import pandas as pd\n",
    "h=pd.read_excel(\"D:/Sai/SaleData.xlsx\")\n",
    "h\n",
    "\n",
    "df.aggregate({\"OrderDate\":[\"min\",\"max\"],\n",
    "              \"Units\":[\"sum\"],\n",
    "              \"Sale_amt\":[\"sum\"]})"
   ]
  },
  {
   "cell_type": "markdown",
   "metadata": {},
   "source": [
    "### <font color='orange'>Pivot Table.</font>"
   ]
  },
  {
   "cell_type": "markdown",
   "metadata": {},
   "source": [
    "-**pd.pivot_table(dataname, Index, Columns, Values, aggfunc)** :-   it's a in-Built function for Pivot table, for summarizing and aggregating data in tabular form "
   ]
  },
  {
   "cell_type": "markdown",
   "metadata": {},
   "source": [
    "-**Index**: These are the values that define the rows of the pivot table."
   ]
  },
  {
   "cell_type": "markdown",
   "metadata": {},
   "source": [
    " -**Columns**: These are the values that define the columns of the pivot table."
   ]
  },
  {
   "cell_type": "markdown",
   "metadata": {},
   "source": [
    "-**Values**: These are the numerical values that you want to aggregate based on the rows and columns."
   ]
  },
  {
   "cell_type": "code",
   "execution_count": 30,
   "metadata": {},
   "outputs": [
    {
     "name": "stdout",
     "output_type": "stream",
     "text": [
      "              Humidity          Temperature         \n",
      "City       Los Angeles New York Los Angeles New York\n",
      "Date                                                \n",
      "2024-01-01        50.0     77.5          75       33\n",
      "2024-01-02        48.0     85.0          78       30\n"
     ]
    }
   ],
   "source": [
    "import pandas as pd\n",
    "import numpy as np\n",
    "\n",
    "# Sample data\n",
    "data = {\n",
    "    'Date': ['2024-01-01', '2024-01-01', '2024-01-02', '2024-01-02', '2024-01-01'],\n",
    "    'City': ['New York', 'Los Angeles', 'New York', 'Los Angeles', 'New York'],\n",
    "    'Temperature': [32, 75, 30, 78, 34],\n",
    "    'Humidity': [80, 50, 85, 48, 75]\n",
    "}\n",
    "\n",
    "df = pd.DataFrame(data)\n",
    "\n",
    "# Creating a pivot table\n",
    "pivot_table = pd.pivot_table(df, values=['Temperature', 'Humidity'], index='Date', columns='City', aggfunc=np.mean)\n",
    "print(pivot_table)\n"
   ]
  },
  {
   "cell_type": "markdown",
   "metadata": {},
   "source": [
    "### <font color='orange'>Changing Categorical data To Numeric Data.</font>"
   ]
  },
  {
   "cell_type": "markdown",
   "metadata": {},
   "source": [
    "- They Have two methods here factorize and using mappings"
   ]
  },
  {
   "cell_type": "markdown",
   "metadata": {},
   "source": [
    "- factosize method they will take default values (0,1,2,3)"
   ]
  },
  {
   "cell_type": "markdown",
   "metadata": {},
   "source": [
    "- mappings method we can give our own "
   ]
  },
  {
   "cell_type": "code",
   "execution_count": 41,
   "metadata": {},
   "outputs": [
    {
     "name": "stdout",
     "output_type": "stream",
     "text": [
      "  Category  Category_numeric\n",
      "0        A                 0\n",
      "1        B                 1\n",
      "2        A                 0\n",
      "3        C                 2\n",
      "4        B                 1\n",
      "5        A                 0\n",
      "  Category  Category_numeric\n",
      "0        A                10\n",
      "1        B                20\n",
      "2        A                10\n",
      "3        C                30\n",
      "4        B                20\n",
      "5        A                10\n"
     ]
    }
   ],
   "source": [
    "# Factorize Method\n",
    "\n",
    "\n",
    "import pandas as pd\n",
    "\n",
    "# Sample DataFrame with categorical column\n",
    "data = {\n",
    "    'Category': ['A', 'B', 'A', 'C', 'B', 'A']\n",
    "}\n",
    "\n",
    "df = pd.DataFrame(data)\n",
    "\n",
    "# Convert categorical to numeric using factorize\n",
    "df['Category_numeric'], categories = pd.factorize(df['Category'])\n",
    "print(df)\n",
    "\n",
    "\n",
    "\n",
    "# To Drop the colums\n",
    "\n",
    "#df1=df.drop([\"Category\"],axis=1)\n",
    "\n",
    "\n",
    "\n",
    "\n",
    "\n",
    "\n",
    "\n",
    "\n",
    "# Mapping Method\n",
    "\n",
    "\n",
    "import pandas as pd\n",
    "\n",
    "# Sample DataFrame with categorical column\n",
    "data = {'Category': ['A', 'B', 'A', 'C', 'B', 'A']}\n",
    "\n",
    "df = pd.DataFrame(data)\n",
    "\n",
    "# Define custom mapping dictionary\n",
    "mapping = {'A': 10, 'B': 20, 'C': 30}\n",
    "\n",
    "# Use map function to replace categorical values with custom numeric codes\n",
    "df['Category_numeric'] = df['Category'].map(mapping)\n",
    "\n",
    "print(df)\n",
    "\n",
    "\n"
   ]
  },
  {
   "cell_type": "markdown",
   "metadata": {},
   "source": [
    "### <font color='orange'>Changing Numeric data To catergorical Data.</font>"
   ]
  },
  {
   "cell_type": "code",
   "execution_count": 1,
   "metadata": {},
   "outputs": [
    {
     "name": "stdout",
     "output_type": "stream",
     "text": [
      "['Medium', 'Large', 'Small', 'Medium', 'Large', 'Medium', 'Small', 'Large']\n"
     ]
    }
   ],
   "source": [
    "# Example numeric data\n",
    "numeric_data = [10, 25, 5, 18, 30, 15, 7, 21]\n",
    "\n",
    "# Define a function to map numeric values to categories\n",
    "def map_to_category(value):\n",
    "    if value < 10:\n",
    "        return 'Small'\n",
    "    elif 10 <= value < 20:\n",
    "        return 'Medium'\n",
    "    else:\n",
    "        return 'Large'\n",
    "\n",
    "# Apply the function to each value\n",
    "categories = [map_to_category(value) for value in numeric_data]\n",
    "\n",
    "print(categories)\n",
    "\n"
   ]
  },
  {
   "cell_type": "markdown",
   "metadata": {},
   "source": [
    "# <font color='red'>END.</font>"
   ]
  },
  {
   "cell_type": "code",
   "execution_count": null,
   "metadata": {},
   "outputs": [],
   "source": []
  }
 ],
 "metadata": {
  "kernelspec": {
   "display_name": "Python 3",
   "language": "python",
   "name": "python3"
  },
  "language_info": {
   "codemirror_mode": {
    "name": "ipython",
    "version": 3
   },
   "file_extension": ".py",
   "mimetype": "text/x-python",
   "name": "python",
   "nbconvert_exporter": "python",
   "pygments_lexer": "ipython3",
   "version": "3.7.3"
  }
 },
 "nbformat": 4,
 "nbformat_minor": 2
}
