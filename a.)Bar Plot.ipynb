{
 "cells": [
  {
   "cell_type": "markdown",
   "metadata": {},
   "source": [
    "# <font color = \"blue\">Bar Graph.</font>"
   ]
  },
  {
   "cell_type": "markdown",
   "metadata": {},
   "source": [
    "- When the data is having Categorical we can use this Bar Graph\n",
    "- To check **Treand, Distribution, Comparison** we can use this one\n"
   ]
  },
  {
   "cell_type": "markdown",
   "metadata": {},
   "source": [
    "- **Bivariate Analysis**\n",
    "- **Numerical vs Categorical**\n",
    "- **Use case** - Aggregate analysis of groups"
   ]
  },
  {
   "cell_type": "markdown",
   "metadata": {},
   "source": [
    "**Syntax**"
   ]
  },
  {
   "cell_type": "markdown",
   "metadata": {},
   "source": [
    "plt.bar(x, height, width, bottom, align, color, edgecolor, label)"
   ]
  },
  {
   "cell_type": "markdown",
   "metadata": {},
   "source": [
    "- **X**         == This parameter represents the x-coordinates of the bars.\n",
    "- **Bottom**    == This parameter specifies the y-coordinate(s) of the bottom of the bars.\n",
    "- **Color**     == This parameter specifies adding colors.\n",
    "- **Width**     == This parameter specifies the width of each bar.\n",
    "- **Height**    == This parameter represents the height of each bar.\n",
    "- **Align**     == This parameter determines the alignment of the bars. It can be 'center' (default) or 'edge'. 'center' aligns                    the bars with the center of the x-ticks, while 'edge' aligns the bars with the edges of the x-ticks\n",
    "- **Edgecolor** == This parameter specifies Bar edgecolor.\n",
    "- **Label**     == Showing Legend."
   ]
  },
  {
   "cell_type": "markdown",
   "metadata": {},
   "source": [
    "### <font color = \"magenta\">             </font>"
   ]
  },
  {
   "cell_type": "markdown",
   "metadata": {},
   "source": [
    "### <font color = \"magenta\">Basic Bar plot.             </font>"
   ]
  },
  {
   "cell_type": "code",
   "execution_count": 58,
   "metadata": {},
   "outputs": [
    {
     "data": {
      "image/png": "[encoded data removed]",
      "text/plain": [
       "<Figure size 432x288 with 1 Axes>"
      ]
     },
     "metadata": {
      "needs_background": "light"
     },
     "output_type": "display_data"
    }
   ],
   "source": [
    "import numpy as np\n",
    "import pandas as pd\n",
    "import matplotlib.pyplot as plt\n",
    "\n",
    "\n",
    "Childern = np.array([10,20,30,40,50])\n",
    "colors = np.array([\"RED\",\"GREEN\",\"BLUE\",\"WHITE\",\"BLACK\"])\n",
    "\n",
    "plt.bar(colors,Childern)\n",
    "\n",
    "\n",
    "# Adding Data Labels\n",
    "for i, value in enumerate(Childern):\n",
    "    plt.text(i, value +0 , str(value), ha='center', va='bottom')"
   ]
  },
  {
   "cell_type": "markdown",
   "metadata": {},
   "source": [
    "### <font color = \"magneta\">                </font>"
   ]
  },
  {
   "cell_type": "markdown",
   "metadata": {},
   "source": [
    "### <font color = \"magenta\">Creating Data set and ploting Basic Graphs.                 </font>"
   ]
  },
  {
   "cell_type": "code",
   "execution_count": 16,
   "metadata": {},
   "outputs": [
    {
     "data": {
      "image/png": "[encoded data removed]",
      "text/plain": [
       "<Figure size 432x288 with 1 Axes>"
      ]
     },
     "metadata": {
      "needs_background": "light"
     },
     "output_type": "display_data"
    }
   ],
   "source": [
    "import numpy as np\n",
    "import pandas as pd\n",
    "import matplotlib.pyplot as plt\n",
    "\n",
    "data = pd.DataFrame({\"Batsman\":[\"Dhoni\",\"Kohli\",\"Rohit\",\"Raina\",\"Yuvi\"],\n",
    "                     \"2015\":[540,640,600,400,390],\n",
    "                     \"2016\":[500,600,580,300,200],\n",
    "                     \"2017\":[180,300,400,200,190]})\n",
    "data\n",
    "\n",
    "\n",
    "plt.bar(data[\"Batsman\"],data[\"2015\"])\n",
    "plt.show()\n"
   ]
  },
  {
   "cell_type": "markdown",
   "metadata": {},
   "source": [
    "### <font color = \"magent\">                </font>"
   ]
  },
  {
   "cell_type": "markdown",
   "metadata": {},
   "source": [
    "### <font color = \"magenta\">Horizontal Bar Graph                </font>"
   ]
  },
  {
   "cell_type": "code",
   "execution_count": 17,
   "metadata": {},
   "outputs": [
    {
     "data": {
      "image/png": "[encoded data removed]",
      "text/plain": [
       "<Figure size 432x288 with 1 Axes>"
      ]
     },
     "metadata": {
      "needs_background": "light"
     },
     "output_type": "display_data"
    }
   ],
   "source": [
    "plt.barh(data[\"Batsman\"],data[\"2016\"])\n",
    "plt.show()"
   ]
  },
  {
   "cell_type": "markdown",
   "metadata": {},
   "source": [
    "### <font color = \"magenta\">                        </font>"
   ]
  },
  {
   "cell_type": "markdown",
   "metadata": {},
   "source": [
    "### <font color = \"magenta\">Mutltiple Bar Graph.                       </font>"
   ]
  },
  {
   "cell_type": "code",
   "execution_count": 41,
   "metadata": {},
   "outputs": [
    {
     "data": {
      "image/png": "[encoded data removed]",
      "text/plain": [
       "<Figure size 432x288 with 1 Axes>"
      ]
     },
     "metadata": {
      "needs_background": "light"
     },
     "output_type": "display_data"
    }
   ],
   "source": [
    "x = np.arange(data.shape[0])\n",
    "plt.bar(x - 0.2, data['2015'], width=0.2, label='2015',color = \"orange\")\n",
    "plt.bar(x, data['2016'], width=0.2, label='2016', color = \"grey\")\n",
    "plt.bar(x + 0.2, data['2017'], width=0.2, label='2017', color = \"green\")\n",
    "\n",
    "plt.show()\n"
   ]
  },
  {
   "cell_type": "markdown",
   "metadata": {},
   "source": [
    "### <font color = \"magentia\">                    </font>"
   ]
  },
  {
   "cell_type": "markdown",
   "metadata": {},
   "source": [
    "### <font color = \"magenta\">Stacked Bar.</font>"
   ]
  },
  {
   "cell_type": "code",
   "execution_count": 49,
   "metadata": {},
   "outputs": [
    {
     "data": {
      "image/png": "[encoded data removed]",
      "text/plain": [
       "<Figure size 432x288 with 1 Axes>"
      ]
     },
     "metadata": {
      "needs_background": "light"
     },
     "output_type": "display_data"
    }
   ],
   "source": [
    "plt.bar(data[\"Batsman\"],data[\"2015\"], color = \"skyblue\", label = \"2015\")\n",
    "plt.bar(data[\"Batsman\"],data[\"2016\"], color = \"lightgreen\", label = \"2016\")\n",
    "plt.bar(data[\"Batsman\"],data[\"2017\"], color = \"salmon\", label = \"2017\")\n",
    "\n",
    "\n",
    "plt.title(\"Who Scored More Runs\")\n",
    "plt.xlabel(\"Players\")\n",
    "plt.ylabel(\"Runs\")\n",
    "\n",
    "plt.xticks(rotation ='vertical')        # -----> X-Axis Changing Horizontal to Vertical\n",
    "\n",
    "plt.legend()\n",
    "plt.show()\n"
   ]
  }
 ],
 "metadata": {
  "kernelspec": {
   "display_name": "Python 3",
   "language": "python",
   "name": "python3"
  },
  "language_info": {
   "codemirror_mode": {
    "name": "ipython",
    "version": 3
   },
   "file_extension": ".py",
   "mimetype": "text/x-python",
   "name": "python",
   "nbconvert_exporter": "python",
   "pygments_lexer": "ipython3",
   "version": "3.7.3"
  }
 },
 "nbformat": 4,
 "nbformat_minor": 2
}
